{
 "cells": [
  {
   "cell_type": "markdown",
   "metadata": {
    "id": "xpIPMNPoU_-p"
   },
   "source": [
    "# Unsupervised Learning Solution\n",
    "### EDSA - Movie Recommendation 2022 \n",
    "#### AI Incorporated - Team 4 EDSA\n",
    "\n",
    "© Explore Data Science Academy\n",
    "\n",
    "<img src=\"https://www.googleapis.com/download/storage/v1/b/kaggle-user-content/o/inbox%2F2205222%2Fbca114f2e4f6b9b46f2cc76527d7401e%2FImage_header.png?generation=1593773828621598&alt=media\" width=100%/> "
   ]
  },
  {
   "cell_type": "markdown",
   "metadata": {
    "id": "busKVVNOtCkW"
   },
   "source": [
    "<a id=\"cont\"></a>\n",
    "## Table of Content\n",
    "\n",
    "<a href=#one>1. Introduction</a>\n",
    "\n",
    "    1.1 Overview\n",
    "    1.2 Problem Statement\n",
    "    1.3 Model Versioning with COMET\n",
    "    1.4 Required Installations\n",
    "       \n",
    "<a href=#two>1. Import Packages</a>\n",
    "\n",
    "<a href=#three>2. Collect Data</a>\n",
    "\n",
    "<a href=#four>4. Exploratory Data Analysis (EDA)<a>\n",
    "    \n",
    "    4.1 \n",
    "\n",
    "<a href=#five>5. Data Processing</a>\n",
    "    \n",
    "    5.1 \n",
    "\n",
    "<a href=#six>6. Feature Engineering</a>\n",
    "\n",
    "<a href=#seven>7. Modelling</a>\n",
    "    \n",
    "    7.1 \n",
    "\n",
    "<a href=#eight>8. Model Performance</a>\n",
    "    \n",
    "    8.1 \n",
    "\n",
    "<a href=#nine>9. Saving & Exporting Model</a>\n",
    "    \n",
    "    9.1 Export Test Prediction as CSV\n",
    "    9.2 Log to Comet\n",
    "\n",
    "<a href=#ten>10. Conclusion</a>\n",
    "\n",
    "<a href=#eleven>11. Recommendation</a>\n",
    "\n",
    "<a href=#ref>Reference Document Links</a>"
   ]
  },
  {
   "cell_type": "markdown",
   "metadata": {
    "id": "cOCaBOcztCkd"
   },
   "source": [
    "<a id=\"one\"></a>\n",
    "## 1. INTRODUCTION\n",
    "<a href=#cont>Back to Table of Contents</a>"
   ]
  },
  {
   "cell_type": "markdown",
   "metadata": {
    "id": "6i2iJv5stCkf"
   },
   "source": [
    "#### 1.1 Overview\n",
    "\n",
    "In today’s technology driven world, recommender systems are socially and economically critical to ensure that individuals can make optimised choices surrounding the content they engage with on a daily basis. One application where this is especially true is movie recommendations; where intelligent algorithms can help viewers find great titles from tens of thousands of options.\n",
    "\n",
    "Hence, We will be constructing a recommendation algorithm based on `Content` and `Collaborative` filtering, capable of accurately predicting how a user will rate a movie they have not yet viewed, based on their historical preferences.\n",
    "\n",
    "<img src=\"https://miro.medium.com/max/1400/1*odvftNNQJp3O6vpwmZsJOQ.png\" width=100%/> "
   ]
  },
  {
   "cell_type": "markdown",
   "metadata": {
    "id": "y-BPglQdtCkh"
   },
   "source": [
    "#### 1.2 Problem Statement\n",
    "\n",
    "YouTube, FaceBook, Twitter, NetFlix, Amazon, Linkedin, Google are all leading businessess in the world today and all this gaints all have one thing in common, YES!!!, you got it; a recommendation machine. In this era of Artifical Intelligence, Everthing from the Government to Education down to the ever growing entertainment industry are so interconnected and now realies heavily on AI technology to boost their Efficiency. \n",
    "\n",
    "Hence, we will be building an accurate and robust model to this challenge of immense economic potential, with users of our clients system being able to recieving personalised recommendations - generating platform affinity for the streaming services which best facilitates their audience's viewing."
   ]
  },
  {
   "cell_type": "markdown",
   "metadata": {
    "id": "qjw97QFytCkk"
   },
   "source": [
    "#### 1.3 Model Versioning with COMET\n",
    "\n",
    "To Begin with, We will be using Comet, a great tool for model versioning and experimentation as it records the parameters and conditions from each of your experiements- allowing us to reproduce your results, or go back to a previous version of our experiment."
   ]
  },
  {
   "cell_type": "code",
   "execution_count": 1,
   "metadata": {
    "colab": {
     "base_uri": "https://localhost:8080/"
    },
    "id": "iJ-OaqMKtCkr",
    "outputId": "5e3ade02-8102-46ce-a23e-c06faab21427",
    "scrolled": true
   },
   "outputs": [],
   "source": [
    "# Install Comet\n",
    "# !pip install comet_ml"
   ]
  },
  {
   "cell_type": "code",
   "execution_count": 2,
   "metadata": {
    "colab": {
     "base_uri": "https://localhost:8080/"
    },
    "id": "7nC3KoDZtCkw",
    "outputId": "a2d87d8d-fcca-4357-a240-fb37d40c9140"
   },
   "outputs": [],
   "source": [
    "# # Import Comet package\n",
    "# from comet_ml import Experiment\n",
    "\n",
    "# # Setting the API key\n",
    "\n",
    "# experiment = Experiment(\n",
    "#     api_key=\"LOfWnyJWVQ0yynqkHLhoe1J2B\",\n",
    "#     project_name=\"movie-recommender-systems-team-4\",\n",
    "#     workspace=\"moreira\",\n",
    "#     log_code=True,\n",
    "#     log_graph=True,\n",
    "#     auto_param_logging=True,\n",
    "#     auto_metric_logging=True\n",
    "# )"
   ]
  },
  {
   "cell_type": "markdown",
   "metadata": {
    "id": "C68jzOFpU_-2"
   },
   "source": [
    "####  1.4 Required Installations"
   ]
  },
  {
   "cell_type": "code",
   "execution_count": 3,
   "metadata": {
    "colab": {
     "base_uri": "https://localhost:8080/"
    },
    "id": "XBtmtHLVtCk2",
    "outputId": "af572e17-8a23-43ae-e097-72830402c0ba"
   },
   "outputs": [],
   "source": [
    "# !pip install surprise"
   ]
  },
  {
   "cell_type": "markdown",
   "metadata": {
    "id": "lL_VSZbOtCk4"
   },
   "source": [
    "#### 1.5 Our Approach"
   ]
  },
  {
   "cell_type": "markdown",
   "metadata": {
    "id": "d4Z4dvcOtCk7"
   },
   "source": [
    "Recommender systems encompass a class of techniques and algorithms that can suggest 'relevant' items to users, in this case, movies. They pedict future behaviour based on past data and a combination of multiple algorithms.\n",
    "\n",
    "We will commence by builing;\n",
    "\n",
    "* a `Simple Recommender` Model which basically recommends movies base on their `Ratings` against `Users`. It's limitation is that its recommendation personified as the same thing is recomended to everybody and then we proceed to\n",
    "\n",
    "* a `Content-Based Recommendation System` which basically does the same thing that the simple recommeder does but further considers as the name says, the `Item Contents` (Tags, Keyword, Cast, Genre, the nitigrities etc) of each item. But this too can enhanced towards adobting \n",
    "\n",
    "* a `Collaborative Filtering Recommendation Systems` which harness all `Past data` of user interactions with the movies they have watch and ratings they have made both directly (actually rating the movie) or indirectly (i.e how long they dwelled on the movie).\n",
    "\n",
    "\n",
    "All this models suffers from what is known as `COLD START PROBLEMS`. It's only normal to get new subscribers to your business and lack history to what is to be recommended. We could reduce that global scope to;\n",
    "        - The Location, Age, Gender, and User devices and\n",
    "        - Latest trending Cast, Crew, Genre to recommend to Target"
   ]
  },
  {
   "cell_type": "markdown",
   "metadata": {
    "id": "WlT_T-wotClA"
   },
   "source": [
    "So, Let's Proceed"
   ]
  },
  {
   "cell_type": "markdown",
   "metadata": {
    "id": "lKmhMwlDU_-u"
   },
   "source": [
    "<a id=\"two\"></a>\n",
    "## 2. IMPORT PACKAGES\n",
    "<a href=#cont>Back to Table of Contents</a>\n",
    "\n",
    "In this section, we will be importing libraries which are a collections of modules in their classes and based on their functionality. For this Analysis and Modelling, we wil be requiring;\n",
    "\n",
    "   ` For Data Manupulation, libraries such as Pandas, Numpy etc.`\n",
    "   \n",
    "`For Data Visualization, libraries such as mathplotlib, seaborn`\n",
    "    \n",
    "`libraries for data prepartion, feature selection, model building, Performance Calculation and more.`\n",
    "\n",
    "**SEE** in-line comments BELOW for purpose per importation."
   ]
  },
  {
   "cell_type": "code",
   "execution_count": 4,
   "metadata": {
    "id": "OQm0O5XHU_-z"
   },
   "outputs": [],
   "source": [
    "\"\"\" \n",
    "For a seamless run, \n",
    "All required libraries will be imported here. \n",
    "\"\"\"\n",
    "\n",
    "# Libraries for data loading, data manipulation and data visulisation\n",
    "import pandas as pd                                                   # <-- for loading CSV data\n",
    "import numpy as np                                                    # <-- Used for mathematical operations\n",
    "import matplotlib.pyplot as plt                                       # <-- for Graphical Representation                                                 \n",
    "import seaborn as sns                                                 # <-- for specialized plots                                                         \n",
    "import scipy as sp                                                    # <-- Used in our code for numerical efficientcy. \n",
    "sns.set()                                                             # <-- set plot style\n",
    "\n",
    "# Libraries for data preparation\n",
    "from nltk.tokenize import TweetTokenizer\n",
    "from nltk.corpus import wordnet\n",
    "\n",
    "# Libraries for featurization and similarity computation\n",
    "from sklearn.metrics.pairwise import linear_kernel, cosine_similarity\n",
    "from sklearn.feature_extraction.text import TfidfVectorizer\n",
    "\n",
    "# Libraries for Model Building\n",
    "import surprise\n",
    "from surprise import Reader, Dataset, SVD\n",
    "from surprise import NormalPredictor\n",
    "from surprise import KNNBasic\n",
    "from surprise import KNNWithMeans\n",
    "from surprise import KNNWithZScore\n",
    "from surprise import KNNBaseline\n",
    "from surprise import BaselineOnly\n",
    "from surprise import SVDpp\n",
    "from surprise import NMF\n",
    "from surprise import SlopeOne\n",
    "from surprise import CoClustering\n",
    "\n",
    "# Libraries used during sorting procedures.\n",
    "import operator                                                       # <-- Convienient item retrieval during iteration \n",
    "import heapq                                                          # <-- Efficient sorting of large lists\n",
    "\n",
    "# Libraries for calculating performance metrics\n",
    "import time\n",
    "from surprise.model_selection import cross_validate\n",
    "from surprise.accuracy import rmse\n",
    "from surprise import accuracy\n",
    "\n",
    "# Libraries to Save/Restore Models\n",
    "import pickle\n",
    "\n",
    "import warnings\n",
    "warnings.filterwarnings('ignore')\n",
    "%matplotlib inline "
   ]
  },
  {
   "cell_type": "markdown",
   "metadata": {
    "id": "2H8qFG5atClH"
   },
   "source": [
    "<a id=\"three\"></a>\n",
    "## 3. Collect Data\n",
    "<a href=#cont>Back to Table of Contents</a>\n",
    "\n",
    "This dataset consists of several million 5-star ratings obtained from users of the online MovieLens movie recommendation service. The MovieLens dataset has long been used by industry and academic researchers to improve the performance of explicitly-based recommender systems.\n",
    "\n",
    "We'll be using this special version of the MovieLens dataset which is enriched with additional data, and resampled for fair evaluation purposes.\n",
    "\n",
    "**Source**\n",
    "\n",
    "The data for the MovieLens dataset is maintained by the GroupLens research group in the Department of Computer Science and Engineering at the University of Minnesota. Additional movie content data was legally scraped from IMDB\n",
    "\n",
    "**Supplied Files**\n",
    "\n",
    "* `genome_scores.csv` - a score mapping the strength between movies and tag-related properties.\n",
    "* `genome_tags.csv` - user assigned tags for genome-related scores\n",
    "* `imdb_data.csv` - Additional movie metadata scraped from IMDB using the links.csv file.\n",
    "* `links.csv` - File providing a mapping between a MovieLens ID and associated IMDB and TMDB IDs.\n",
    "* `sample_submission.csv` - Sample of the submission format for the hackathon.\n",
    "* `tags.csv` - User assigned for the movies within the dataset.\n",
    "* `test.csv` - The test split of the dataset. Contains user and movie IDs with no rating data.\n",
    "* `train.csv` - The training split of the dataset. Contains user and movie IDs with associated rating data.\n",
    "\n",
    "Kindly Make Reference to [Kaggle](https://www.kaggle.com/competitions/edsa-movie-recommendation-2022/data) for More Information asa concern the data."
   ]
  },
  {
   "cell_type": "code",
   "execution_count": 5,
   "metadata": {
    "colab": {
     "base_uri": "https://localhost:8080/",
     "height": 495,
     "resources": {
      "http://localhost:8080/nbextensions/google.colab/files.js": {
       "data": "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",
       "headers": [
        [
         "content-type",
         "application/javascript"
        ]
       ],
       "ok": true,
       "status": 200,
       "status_text": ""
      }
     }
    },
    "id": "WbDazMJRvN3S",
    "outputId": "2e2b39d2-bed4-490e-de85-5f68b8f66a91"
   },
   "outputs": [],
   "source": [
    "# #Kaggle setup\n",
    "# ! pip install -q kaggle\n",
    "\n",
    "# from google.colab import  files\n",
    "# files.upload()\n",
    "\n",
    "# #Create Kaggle Folder\n",
    "# !mkdir ~/.kaggle\n",
    "# #Copy Kaggle.json file to new folder\n",
    "# ! cp kaggle.json ~/.kaggle/\n",
    "# #Grant Permissions\n",
    "# ! chmod 600  ~/.kaggle/kaggle.json\n",
    "# #Datasets List\n",
    "# ! kaggle datasets list"
   ]
  },
  {
   "cell_type": "code",
   "execution_count": 6,
   "metadata": {
    "colab": {
     "base_uri": "https://localhost:8080/"
    },
    "id": "oVxPx1Q3vWov",
    "outputId": "184f97f4-cc15-47dd-9704-ad590ae91651"
   },
   "outputs": [],
   "source": [
    "# #Download dataset\n",
    "# ! kaggle competitions download -c edsa-movie-recommendation-2022\n",
    "\n",
    "# #Unzip datasets\n",
    "# ! mkdir datasets\n",
    "# !unzip  edsa-movie-recommendation-2022.zip"
   ]
  },
  {
   "cell_type": "code",
   "execution_count": 7,
   "metadata": {
    "id": "ezFZoeMQtClJ"
   },
   "outputs": [],
   "source": [
    "# Load Base Train & Test Data locally\n",
    "train_df_act = pd.read_csv(r'.\\edsa-movie-recommendation-2022\\train.csv')\n",
    "test_df = pd.read_csv(r'.\\edsa-movie-recommendation-2022\\test.csv')\n",
    "\n",
    "# # From Kaggle\n",
    "# train_df = pd.read_csv(r'train.csv')\n",
    "# test_df = pd.read_csv(r'test.csv')"
   ]
  },
  {
   "cell_type": "code",
   "execution_count": 8,
   "metadata": {
    "id": "NNrR7G2ntClK",
    "scrolled": false
   },
   "outputs": [],
   "source": [
    "# Load Meta Data locally\n",
    "genome_scores_df = pd.read_csv('.\\edsa-movie-recommendation-2022\\genome_scores.csv')\n",
    "genome_tags_df = pd.read_csv('.\\edsa-movie-recommendation-2022\\genome_tags.csv')\n",
    "imdb_data_df = pd.read_csv('.\\edsa-movie-recommendation-2022\\imdb_data.csv')\n",
    "links_df = pd.read_csv('.\\edsa-movie-recommendation-2022\\links.csv')\n",
    "movies_df = pd.read_csv('.\\edsa-movie-recommendation-2022\\movies.csv')\n",
    "tags_df = pd.read_csv(r'.\\edsa-movie-recommendation-2022\\tags.csv')\n",
    "\n",
    "# # from Kaggle\n",
    "# genome_scores_df = pd.read_csv('genome_scores.csv')\n",
    "# genome_tags_df = pd.read_csv('genome_tags.csv')\n",
    "# imdb_data_df = pd.read_csv('imdb_data.csv')\n",
    "# links_df = pd.read_csv('links.csv')\n",
    "# movies_df = pd.read_csv('movies.csv')\n",
    "# tags_df = pd.read_csv(r'tags.csv')"
   ]
  },
  {
   "cell_type": "code",
   "execution_count": 9,
   "metadata": {
    "colab": {
     "base_uri": "https://localhost:8080/",
     "height": 112
    },
    "id": "lqvsnRT5tClL",
    "outputId": "da59f46e-98b7-4c1a-8b03-29490a42864e"
   },
   "outputs": [],
   "source": [
    "# Load Submission Format\n",
    "# sample_submission_df = pd.read_csv(r'.\\edsa-movie-recommendation-2022\\sample_submission.csv')\n",
    "\n",
    "# # From Kaggle\n",
    "# sample_submission_df = pd.read_csv(r'sample_submission.csv')\n",
    "# sample_submission_df.head(2)"
   ]
  },
  {
   "cell_type": "markdown",
   "metadata": {
    "id": "AFICyATXtClM"
   },
   "source": [
    "<a id=\"four\"></a>\n",
    "## 4. Exploratory Data Analysis (EDA)\n",
    "<a href=#cont>Back to Table of Contents</a>\n",
    "\n",
    "This includes looking to understand patterns in our data, pinpoint any outliers and indicate relationships between variables. This phase we will be carrying out some data analysis, descriptive statistics and data visualisations, all in the bid to understand to properly fine refining the data in the feature engineering in preparation for modeling. \n",
    "\n",
    "##### 4.1 Review Loaded Data\n",
    "\n",
    "This first and the most important step in this project as a proper understanding on the data available will increase the chances of what we can do with it."
   ]
  },
  {
   "cell_type": "code",
   "execution_count": 10,
   "metadata": {},
   "outputs": [
    {
     "name": "stdout",
     "output_type": "stream",
     "text": [
      "Shape of our Actual TRAIN Dataset (10000038, 4)\n",
      "10% of our TRAIN Dataset (500002, 4)\n"
     ]
    }
   ],
   "source": [
    "# Sampling out 10% the size of our Data population for the Experiment.\n",
    "print('Shape of our Actual TRAIN Dataset', train_df_act.shape)\n",
    "train_df = train_df_act.sample(frac=0.05, random_state=42)\n",
    "print('10% of our TRAIN Dataset', train_df.shape)"
   ]
  },
  {
   "cell_type": "code",
   "execution_count": 11,
   "metadata": {},
   "outputs": [],
   "source": [
    "# # taking\n",
    "# genome_scores_df\n",
    "# imdb_data_df\n",
    "# movies_df\n",
    "# tags_df"
   ]
  },
  {
   "cell_type": "code",
   "execution_count": 12,
   "metadata": {
    "colab": {
     "base_uri": "https://localhost:8080/",
     "height": 243
    },
    "id": "o4GOWLrRtClN",
    "outputId": "1f1d1353-d483-485b-863e-7fa49ab77563"
   },
   "outputs": [
    {
     "data": {
      "text/html": [
       "<div>\n",
       "<style scoped>\n",
       "    .dataframe tbody tr th:only-of-type {\n",
       "        vertical-align: middle;\n",
       "    }\n",
       "\n",
       "    .dataframe tbody tr th {\n",
       "        vertical-align: top;\n",
       "    }\n",
       "\n",
       "    .dataframe thead th {\n",
       "        text-align: right;\n",
       "    }\n",
       "</style>\n",
       "<table border=\"1\" class=\"dataframe\">\n",
       "  <thead>\n",
       "    <tr style=\"text-align: right;\">\n",
       "      <th></th>\n",
       "      <th>userId</th>\n",
       "      <th>movieId</th>\n",
       "      <th>rating</th>\n",
       "      <th>timestamp</th>\n",
       "    </tr>\n",
       "  </thead>\n",
       "  <tbody>\n",
       "    <tr>\n",
       "      <th>5954604</th>\n",
       "      <td>122380</td>\n",
       "      <td>31445</td>\n",
       "      <td>2.5</td>\n",
       "      <td>1159967140</td>\n",
       "    </tr>\n",
       "    <tr>\n",
       "      <th>1460784</th>\n",
       "      <td>22380</td>\n",
       "      <td>56775</td>\n",
       "      <td>4.0</td>\n",
       "      <td>1343936580</td>\n",
       "    </tr>\n",
       "    <tr>\n",
       "      <th>6631832</th>\n",
       "      <td>104339</td>\n",
       "      <td>356</td>\n",
       "      <td>2.5</td>\n",
       "      <td>1111529397</td>\n",
       "    </tr>\n",
       "    <tr>\n",
       "      <th>5396407</th>\n",
       "      <td>64877</td>\n",
       "      <td>6874</td>\n",
       "      <td>4.0</td>\n",
       "      <td>1513800297</td>\n",
       "    </tr>\n",
       "    <tr>\n",
       "      <th>8150654</th>\n",
       "      <td>63164</td>\n",
       "      <td>2762</td>\n",
       "      <td>5.0</td>\n",
       "      <td>1005315064</td>\n",
       "    </tr>\n",
       "  </tbody>\n",
       "</table>\n",
       "</div>"
      ],
      "text/plain": [
       "         userId  movieId  rating   timestamp\n",
       "5954604  122380    31445     2.5  1159967140\n",
       "1460784   22380    56775     4.0  1343936580\n",
       "6631832  104339      356     2.5  1111529397\n",
       "5396407   64877     6874     4.0  1513800297\n",
       "8150654   63164     2762     5.0  1005315064"
      ]
     },
     "execution_count": 12,
     "metadata": {},
     "output_type": "execute_result"
    }
   ],
   "source": [
    "# # Review Base data\n",
    "# print('Number of Ratings in our TRAIN Dataset', train_df.shape)\n",
    "# print('Number of Ratings in our TEST Dataset', test_df.shape)\n",
    "train_df.head()"
   ]
  },
  {
   "cell_type": "code",
   "execution_count": 13,
   "metadata": {
    "colab": {
     "base_uri": "https://localhost:8080/",
     "height": 112
    },
    "id": "DXPRRyqHtClO",
    "outputId": "e0828682-c762-4d71-a44c-d65542fe65f5"
   },
   "outputs": [],
   "source": [
    "# Review Submission format\n",
    "# sample_submission_df.head(2)"
   ]
  },
  {
   "cell_type": "markdown",
   "metadata": {
    "id": "86bnBSfrtClP"
   },
   "source": [
    "First we can acknowledge here that the most basic model we could build will be one recommending a Movie, represented by it's unique Movie_ID according to it's Rating. Every other modelling such as recommending based on movie Content or on a more collaborative scale, will be to improve this Model.\n",
    "We Also have Available a wooping `10million plus` observations for training & validation, and also `5Million plus` Test dataset to act as Unseen/Real world Test case."
   ]
  },
  {
   "cell_type": "code",
   "execution_count": 1,
   "metadata": {
    "colab": {
     "base_uri": "https://localhost:8080/",
     "height": 387
    },
    "id": "gjL5VShatClR",
    "outputId": "23635ffb-1787-467a-81ae-1941557ac7ff"
   },
   "outputs": [
    {
     "ename": "NameError",
     "evalue": "name 'sns' is not defined",
     "output_type": "error",
     "traceback": [
      "\u001b[1;31m---------------------------------------------------------------------------\u001b[0m",
      "\u001b[1;31mNameError\u001b[0m                                 Traceback (most recent call last)",
      "\u001b[1;32mC:\\Users\\EZEMAI~1\\AppData\\Local\\Temp/ipykernel_3984/440177687.py\u001b[0m in \u001b[0;36m<module>\u001b[1;34m\u001b[0m\n\u001b[0;32m      1\u001b[0m \u001b[1;31m# Let's Visualise the Distribution of our Observation based on Rating of Actual Train Data\u001b[0m\u001b[1;33m\u001b[0m\u001b[1;33m\u001b[0m\u001b[0m\n\u001b[1;32m----> 2\u001b[1;33m \u001b[1;32mwith\u001b[0m \u001b[0msns\u001b[0m\u001b[1;33m.\u001b[0m\u001b[0maxes_style\u001b[0m\u001b[1;33m(\u001b[0m\u001b[1;34m'white'\u001b[0m\u001b[1;33m)\u001b[0m\u001b[1;33m:\u001b[0m\u001b[1;33m\u001b[0m\u001b[1;33m\u001b[0m\u001b[0m\n\u001b[0m\u001b[0;32m      3\u001b[0m     \u001b[0mg\u001b[0m \u001b[1;33m=\u001b[0m \u001b[0msns\u001b[0m\u001b[1;33m.\u001b[0m\u001b[0mfactorplot\u001b[0m\u001b[1;33m(\u001b[0m\u001b[1;34m\"rating\"\u001b[0m\u001b[1;33m,\u001b[0m \u001b[0mdata\u001b[0m\u001b[1;33m=\u001b[0m\u001b[0mtrain_df_act\u001b[0m\u001b[1;33m,\u001b[0m \u001b[0maspect\u001b[0m\u001b[1;33m=\u001b[0m\u001b[1;36m2.0\u001b[0m\u001b[1;33m,\u001b[0m \u001b[0mkind\u001b[0m\u001b[1;33m=\u001b[0m\u001b[1;34m'count'\u001b[0m\u001b[1;33m)\u001b[0m\u001b[1;33m\u001b[0m\u001b[1;33m\u001b[0m\u001b[0m\n\u001b[0;32m      4\u001b[0m     \u001b[0mg\u001b[0m\u001b[1;33m.\u001b[0m\u001b[0mset_ylabels\u001b[0m\u001b[1;33m(\u001b[0m\u001b[1;34m\"Total number of ratings (per Million)\"\u001b[0m\u001b[1;33m)\u001b[0m\u001b[1;33m\u001b[0m\u001b[1;33m\u001b[0m\u001b[0m\n\u001b[0;32m      5\u001b[0m \u001b[0mprint\u001b[0m \u001b[1;33m(\u001b[0m\u001b[1;34mf'Average rating in dataset: {np.mean(train_df_act[\"rating\"])}'\u001b[0m\u001b[1;33m)\u001b[0m\u001b[1;33m\u001b[0m\u001b[1;33m\u001b[0m\u001b[0m\n",
      "\u001b[1;31mNameError\u001b[0m: name 'sns' is not defined"
     ]
    }
   ],
   "source": [
    "# Let's Visualise the Distribution of our Observation based on Rating of Actual Train Data\n",
    "with sns.axes_style('white'):\n",
    "    g = sns.factorplot(\"rating\", data=train_df_act, aspect=2.0, kind='count')\n",
    "    g.set_ylabels(\"Total number of ratings (per Million)\")\n",
    "print (f'Average rating in dataset: {np.mean(train_df_act[\"rating\"])}')"
   ]
  },
  {
   "cell_type": "code",
   "execution_count": 15,
   "metadata": {},
   "outputs": [
    {
     "name": "stdout",
     "output_type": "stream",
     "text": [
      "Average rating in dataset: 3.5327758688965245\n"
     ]
    },
    {
     "data": {
      "image/png": "[encoded data removed]",
      "text/plain": [
       "<Figure size 720x360 with 1 Axes>"
      ]
     },
     "metadata": {},
     "output_type": "display_data"
    }
   ],
   "source": [
    "# Let's Visualise the Distribution of our Observation based on Rating\n",
    "with sns.axes_style('white'):\n",
    "    g = sns.factorplot(\"rating\", data=train_df, aspect=2.0, kind='count')\n",
    "    g.set_ylabels(\"Total number of ratings (per Million)\")\n",
    "print (f'Average rating in dataset: {np.mean(train_df[\"rating\"])}')"
   ]
  },
  {
   "cell_type": "markdown",
   "metadata": {
    "id": "fii3TjbQtClU"
   },
   "source": [
    "As we can see, majority of our Observations falls within the range of 3.0 to 5.0 with 4.0 as the highest with over 2.6Million observations. This means that modelling by rating alone will not be entirely representative of what the viewer may want since majority of ratings fall within the higher rates. Movie Contents/Types, User Preferences and other collaborative options, will have to be called into actions as distinguishing factor to tailoring down a recommendation to a user, which is what we want.\n",
    "\n",
    "Now; Let's Review our additional metadata set to see if we see more distinguisable features worthy of extraction, to be used to improving our model."
   ]
  },
  {
   "cell_type": "code",
   "execution_count": 16,
   "metadata": {
    "colab": {
     "base_uri": "https://localhost:8080/",
     "height": 180
    },
    "id": "i_pjZIO_tClZ",
    "outputId": "22f97a77-b41e-4e35-d88d-09dd0c81c28e"
   },
   "outputs": [
    {
     "name": "stdout",
     "output_type": "stream",
     "text": [
      "Shape:  (15584448, 3)\n",
      "No. of Unique Tag_Id:  1128\n"
     ]
    },
    {
     "data": {
      "text/html": [
       "<div>\n",
       "<style scoped>\n",
       "    .dataframe tbody tr th:only-of-type {\n",
       "        vertical-align: middle;\n",
       "    }\n",
       "\n",
       "    .dataframe tbody tr th {\n",
       "        vertical-align: top;\n",
       "    }\n",
       "\n",
       "    .dataframe thead th {\n",
       "        text-align: right;\n",
       "    }\n",
       "</style>\n",
       "<table border=\"1\" class=\"dataframe\">\n",
       "  <thead>\n",
       "    <tr style=\"text-align: right;\">\n",
       "      <th></th>\n",
       "      <th>movieId</th>\n",
       "      <th>tagId</th>\n",
       "      <th>relevance</th>\n",
       "    </tr>\n",
       "  </thead>\n",
       "  <tbody>\n",
       "    <tr>\n",
       "      <th>0</th>\n",
       "      <td>1</td>\n",
       "      <td>1</td>\n",
       "      <td>0.02875</td>\n",
       "    </tr>\n",
       "    <tr>\n",
       "      <th>1</th>\n",
       "      <td>1</td>\n",
       "      <td>2</td>\n",
       "      <td>0.02375</td>\n",
       "    </tr>\n",
       "    <tr>\n",
       "      <th>2</th>\n",
       "      <td>1</td>\n",
       "      <td>3</td>\n",
       "      <td>0.06250</td>\n",
       "    </tr>\n",
       "  </tbody>\n",
       "</table>\n",
       "</div>"
      ],
      "text/plain": [
       "   movieId  tagId  relevance\n",
       "0        1      1    0.02875\n",
       "1        1      2    0.02375\n",
       "2        1      3    0.06250"
      ]
     },
     "execution_count": 16,
     "metadata": {},
     "output_type": "execute_result"
    }
   ],
   "source": [
    "# Genome Score Review: \n",
    "'''a score mapping the strength between movies and tag-related properties.'''\n",
    "\n",
    "print('Shape: ', genome_scores_df.shape)\n",
    "print('No. of Unique Tag_Id: ', len(pd.unique(genome_scores_df['tagId'])))\n",
    "genome_scores_df.head(3)"
   ]
  },
  {
   "cell_type": "markdown",
   "metadata": {
    "id": "tWKp69BbtClb"
   },
   "source": [
    "We have 1128 Distinct `Tag_ID` being having varying relevance score per each 15 million viewed Movies with their movie_ID\n",
    "\n",
    "**Hence:** We will pick the mean `Relevance` Column per movieId to left join it to our training dataset using movieID as our Key. SEE DATA PROCESSING"
   ]
  },
  {
   "cell_type": "code",
   "execution_count": 17,
   "metadata": {
    "colab": {
     "base_uri": "https://localhost:8080/",
     "height": 162
    },
    "id": "Xk96wo8itClc",
    "outputId": "1c7d2be3-11d7-4fcc-fcbf-8d3e0ff8e877"
   },
   "outputs": [
    {
     "name": "stdout",
     "output_type": "stream",
     "text": [
      "Shape:  (27278, 6)\n"
     ]
    },
    {
     "data": {
      "text/html": [
       "<div>\n",
       "<style scoped>\n",
       "    .dataframe tbody tr th:only-of-type {\n",
       "        vertical-align: middle;\n",
       "    }\n",
       "\n",
       "    .dataframe tbody tr th {\n",
       "        vertical-align: top;\n",
       "    }\n",
       "\n",
       "    .dataframe thead th {\n",
       "        text-align: right;\n",
       "    }\n",
       "</style>\n",
       "<table border=\"1\" class=\"dataframe\">\n",
       "  <thead>\n",
       "    <tr style=\"text-align: right;\">\n",
       "      <th></th>\n",
       "      <th>movieId</th>\n",
       "      <th>title_cast</th>\n",
       "      <th>director</th>\n",
       "      <th>runtime</th>\n",
       "      <th>budget</th>\n",
       "      <th>plot_keywords</th>\n",
       "    </tr>\n",
       "  </thead>\n",
       "  <tbody>\n",
       "    <tr>\n",
       "      <th>0</th>\n",
       "      <td>1</td>\n",
       "      <td>Tom Hanks|Tim Allen|Don Rickles|Jim Varney|Wal...</td>\n",
       "      <td>John Lasseter</td>\n",
       "      <td>81.0</td>\n",
       "      <td>$30,000,000</td>\n",
       "      <td>toy|rivalry|cowboy|cgi animation</td>\n",
       "    </tr>\n",
       "    <tr>\n",
       "      <th>1</th>\n",
       "      <td>2</td>\n",
       "      <td>Robin Williams|Jonathan Hyde|Kirsten Dunst|Bra...</td>\n",
       "      <td>Jonathan Hensleigh</td>\n",
       "      <td>104.0</td>\n",
       "      <td>$65,000,000</td>\n",
       "      <td>board game|adventurer|fight|game</td>\n",
       "    </tr>\n",
       "    <tr>\n",
       "      <th>2</th>\n",
       "      <td>3</td>\n",
       "      <td>Walter Matthau|Jack Lemmon|Sophia Loren|Ann-Ma...</td>\n",
       "      <td>Mark Steven Johnson</td>\n",
       "      <td>101.0</td>\n",
       "      <td>$25,000,000</td>\n",
       "      <td>boat|lake|neighbor|rivalry</td>\n",
       "    </tr>\n",
       "  </tbody>\n",
       "</table>\n",
       "</div>"
      ],
      "text/plain": [
       "   movieId                                         title_cast  \\\n",
       "0        1  Tom Hanks|Tim Allen|Don Rickles|Jim Varney|Wal...   \n",
       "1        2  Robin Williams|Jonathan Hyde|Kirsten Dunst|Bra...   \n",
       "2        3  Walter Matthau|Jack Lemmon|Sophia Loren|Ann-Ma...   \n",
       "\n",
       "              director  runtime       budget                     plot_keywords  \n",
       "0        John Lasseter     81.0  $30,000,000  toy|rivalry|cowboy|cgi animation  \n",
       "1   Jonathan Hensleigh    104.0  $65,000,000  board game|adventurer|fight|game  \n",
       "2  Mark Steven Johnson    101.0  $25,000,000        boat|lake|neighbor|rivalry  "
      ]
     },
     "execution_count": 17,
     "metadata": {},
     "output_type": "execute_result"
    }
   ],
   "source": [
    "# IMDB Data Review: \n",
    "'''an additional movie metadata scraped from IMDB using the links.csv file.'''\n",
    "\n",
    "print('Shape: ', imdb_data_df.shape)\n",
    "imdb_data_df.head(3)"
   ]
  },
  {
   "cell_type": "markdown",
   "metadata": {
    "id": "7R3lAhC9tCle"
   },
   "source": [
    "As we can see, People/Users may tend to watch movies based on their `CAST` or `Director` but predominately the CAST and most people may be drawn to more `fight` oriented movies than `cowboy` or `animation`.\n",
    "\n",
    "Hence: We will pick the `Title_cast` & `plot_keywords` Columns as potential features"
   ]
  },
  {
   "cell_type": "code",
   "execution_count": 18,
   "metadata": {
    "colab": {
     "base_uri": "https://localhost:8080/",
     "height": 180
    },
    "id": "plG8OYdUtClr",
    "outputId": "d6c4b0c2-f547-42d5-9a7f-bbed65bec923"
   },
   "outputs": [
    {
     "name": "stdout",
     "output_type": "stream",
     "text": [
      "Shape:  (62423, 3)\n",
      "No. of Unique Movie_Id:  62423\n"
     ]
    },
    {
     "data": {
      "text/html": [
       "<div>\n",
       "<style scoped>\n",
       "    .dataframe tbody tr th:only-of-type {\n",
       "        vertical-align: middle;\n",
       "    }\n",
       "\n",
       "    .dataframe tbody tr th {\n",
       "        vertical-align: top;\n",
       "    }\n",
       "\n",
       "    .dataframe thead th {\n",
       "        text-align: right;\n",
       "    }\n",
       "</style>\n",
       "<table border=\"1\" class=\"dataframe\">\n",
       "  <thead>\n",
       "    <tr style=\"text-align: right;\">\n",
       "      <th></th>\n",
       "      <th>movieId</th>\n",
       "      <th>title</th>\n",
       "      <th>genres</th>\n",
       "    </tr>\n",
       "  </thead>\n",
       "  <tbody>\n",
       "    <tr>\n",
       "      <th>0</th>\n",
       "      <td>1</td>\n",
       "      <td>Toy Story (1995)</td>\n",
       "      <td>Adventure|Animation|Children|Comedy|Fantasy</td>\n",
       "    </tr>\n",
       "    <tr>\n",
       "      <th>1</th>\n",
       "      <td>2</td>\n",
       "      <td>Jumanji (1995)</td>\n",
       "      <td>Adventure|Children|Fantasy</td>\n",
       "    </tr>\n",
       "    <tr>\n",
       "      <th>2</th>\n",
       "      <td>3</td>\n",
       "      <td>Grumpier Old Men (1995)</td>\n",
       "      <td>Comedy|Romance</td>\n",
       "    </tr>\n",
       "  </tbody>\n",
       "</table>\n",
       "</div>"
      ],
      "text/plain": [
       "   movieId                    title  \\\n",
       "0        1         Toy Story (1995)   \n",
       "1        2           Jumanji (1995)   \n",
       "2        3  Grumpier Old Men (1995)   \n",
       "\n",
       "                                        genres  \n",
       "0  Adventure|Animation|Children|Comedy|Fantasy  \n",
       "1                   Adventure|Children|Fantasy  \n",
       "2                               Comedy|Romance  "
      ]
     },
     "execution_count": 18,
     "metadata": {},
     "output_type": "execute_result"
    }
   ],
   "source": [
    "# MOVIES Table Review: \n",
    "'''Gives each movie primary describtion'''\n",
    "\n",
    "print('Shape: ', movies_df.shape)\n",
    "print('No. of Unique Movie_Id: ', len(pd.unique(movies_df['movieId'])))\n",
    "movies_df.head(3)"
   ]
  },
  {
   "cell_type": "markdown",
   "metadata": {
    "id": "3CN3Qg82tClt"
   },
   "source": [
    "Obviously the `Movie_ID column` is very important and also the `genres`; Viewers might be more interested in `Comedy` and not recommending movies having `ROMANCE` as a genre to CHILDREN. We could be sued. In Total we have availble over `62 thousand` distinct movies available for our training."
   ]
  },
  {
   "cell_type": "code",
   "execution_count": 19,
   "metadata": {
    "colab": {
     "base_uri": "https://localhost:8080/",
     "height": 162
    },
    "id": "5tPnLCidtClu",
    "outputId": "bfedb7b9-2591-4350-859f-6823a9f4d042"
   },
   "outputs": [
    {
     "name": "stdout",
     "output_type": "stream",
     "text": [
      "Shape:  (1093360, 4)\n"
     ]
    },
    {
     "data": {
      "text/html": [
       "<div>\n",
       "<style scoped>\n",
       "    .dataframe tbody tr th:only-of-type {\n",
       "        vertical-align: middle;\n",
       "    }\n",
       "\n",
       "    .dataframe tbody tr th {\n",
       "        vertical-align: top;\n",
       "    }\n",
       "\n",
       "    .dataframe thead th {\n",
       "        text-align: right;\n",
       "    }\n",
       "</style>\n",
       "<table border=\"1\" class=\"dataframe\">\n",
       "  <thead>\n",
       "    <tr style=\"text-align: right;\">\n",
       "      <th></th>\n",
       "      <th>userId</th>\n",
       "      <th>movieId</th>\n",
       "      <th>tag</th>\n",
       "      <th>timestamp</th>\n",
       "    </tr>\n",
       "  </thead>\n",
       "  <tbody>\n",
       "    <tr>\n",
       "      <th>0</th>\n",
       "      <td>3</td>\n",
       "      <td>260</td>\n",
       "      <td>classic</td>\n",
       "      <td>1439472355</td>\n",
       "    </tr>\n",
       "    <tr>\n",
       "      <th>1</th>\n",
       "      <td>3</td>\n",
       "      <td>260</td>\n",
       "      <td>sci-fi</td>\n",
       "      <td>1439472256</td>\n",
       "    </tr>\n",
       "    <tr>\n",
       "      <th>2</th>\n",
       "      <td>4</td>\n",
       "      <td>1732</td>\n",
       "      <td>dark comedy</td>\n",
       "      <td>1573943598</td>\n",
       "    </tr>\n",
       "  </tbody>\n",
       "</table>\n",
       "</div>"
      ],
      "text/plain": [
       "   userId  movieId          tag   timestamp\n",
       "0       3      260      classic  1439472355\n",
       "1       3      260       sci-fi  1439472256\n",
       "2       4     1732  dark comedy  1573943598"
      ]
     },
     "execution_count": 19,
     "metadata": {},
     "output_type": "execute_result"
    }
   ],
   "source": [
    "# TAG Review: \n",
    "'''User assigned for the movies within the dataset'''\n",
    "\n",
    "print('Shape: ', tags_df.shape)\n",
    "tags_df.head(3)"
   ]
  },
  {
   "cell_type": "markdown",
   "metadata": {
    "id": "Eh9QSdsxtClz"
   },
   "source": [
    "The `Timestamp` might prove important as varying individuals will tend to view certain `tag` of movies at unique times and as such we should have our model providing recommendation to suit the TIMING (Think of HORROR movies and Night-times). This table may be having good info that could positively influence our training model\n",
    "\n",
    "That been said, Let's go into more statistical Review of our Dataset.\n",
    "#### 4.2 Descriptive Stats"
   ]
  },
  {
   "cell_type": "code",
   "execution_count": 20,
   "metadata": {
    "colab": {
     "base_uri": "https://localhost:8080/"
    },
    "id": "bbciNiBrtCl0",
    "outputId": "21776e4f-2fb9-4fd4-bab7-4f23190d34f1",
    "scrolled": true
   },
   "outputs": [
    {
     "name": "stdout",
     "output_type": "stream",
     "text": [
      "<class 'pandas.core.frame.DataFrame'>\n",
      "RangeIndex: 10000038 entries, 0 to 10000037\n",
      "Data columns (total 4 columns):\n",
      " #   Column     Dtype  \n",
      "---  ------     -----  \n",
      " 0   userId     int64  \n",
      " 1   movieId    int64  \n",
      " 2   rating     float64\n",
      " 3   timestamp  int64  \n",
      "dtypes: float64(1), int64(3)\n",
      "memory usage: 305.2 MB\n"
     ]
    }
   ],
   "source": [
    "# Info on Base train data\n",
    "train_df_act.info()"
   ]
  },
  {
   "cell_type": "code",
   "execution_count": 21,
   "metadata": {},
   "outputs": [
    {
     "name": "stdout",
     "output_type": "stream",
     "text": [
      "<class 'pandas.core.frame.DataFrame'>\n",
      "Int64Index: 500002 entries, 5954604 to 2702688\n",
      "Data columns (total 4 columns):\n",
      " #   Column     Non-Null Count   Dtype  \n",
      "---  ------     --------------   -----  \n",
      " 0   userId     500002 non-null  int64  \n",
      " 1   movieId    500002 non-null  int64  \n",
      " 2   rating     500002 non-null  float64\n",
      " 3   timestamp  500002 non-null  int64  \n",
      "dtypes: float64(1), int64(3)\n",
      "memory usage: 35.2 MB\n"
     ]
    }
   ],
   "source": [
    "# Info on Base train data\n",
    "train_df.info()"
   ]
  },
  {
   "cell_type": "markdown",
   "metadata": {
    "id": "DPb4aKDXtCl6"
   },
   "source": [
    "We can see the columns and the data type storage format and as spotted, If we are to use the `Timestamp` it has to be changed from `int` to `DateTime` for it to make sense to our model, if not, the model will just see them as mere integers/numbers."
   ]
  },
  {
   "cell_type": "code",
   "execution_count": 22,
   "metadata": {
    "colab": {
     "base_uri": "https://localhost:8080/"
    },
    "id": "MVIUbrRptCl8",
    "outputId": "5152337c-f90a-4e11-aa4d-9737d5deaac4"
   },
   "outputs": [
    {
     "data": {
      "text/plain": [
       "count    500002.0\n",
       "mean          3.5\n",
       "std           1.1\n",
       "min           0.5\n",
       "25%           3.0\n",
       "50%           3.5\n",
       "75%           4.0\n",
       "max           5.0\n",
       "Name: rating, dtype: float64"
      ]
     },
     "execution_count": 22,
     "metadata": {},
     "output_type": "execute_result"
    }
   ],
   "source": [
    "# Overview of data\n",
    "round(train_df['rating'].describe(), 1)"
   ]
  },
  {
   "cell_type": "markdown",
   "metadata": {
    "id": "FP6_raG2tCmB"
   },
   "source": [
    "We can see a Maximum of 25% of our viewers will tend to rate movies below 3.0\n",
    "\n",
    "Now, Let's get into the meat of processing our available. keep in mind, All things are possible here."
   ]
  },
  {
   "cell_type": "markdown",
   "metadata": {
    "id": "PEMhCmH_tCmC"
   },
   "source": [
    "<a id=\"five\"></a>\n",
    "## 5. DATA PROCESSING\n",
    "<a href=#cont>Back to Table of Contents</a>\n",
    "\n",
    "The primary funtion of data processing is to provide Cleaner, Functional, higher-quality data, which is key to any successesful of data engineering and model building. It also enable more valuable insights to be extracted as well. Hence, Let's get digging."
   ]
  },
  {
   "cell_type": "code",
   "execution_count": 23,
   "metadata": {
    "colab": {
     "base_uri": "https://localhost:8080/",
     "height": 112
    },
    "id": "7KUSbb50tCmE",
    "outputId": "fcbdaa42-9908-4496-e657-8317f9ee54cf"
   },
   "outputs": [
    {
     "data": {
      "text/html": [
       "<div>\n",
       "<style scoped>\n",
       "    .dataframe tbody tr th:only-of-type {\n",
       "        vertical-align: middle;\n",
       "    }\n",
       "\n",
       "    .dataframe tbody tr th {\n",
       "        vertical-align: top;\n",
       "    }\n",
       "\n",
       "    .dataframe thead th {\n",
       "        text-align: right;\n",
       "    }\n",
       "</style>\n",
       "<table border=\"1\" class=\"dataframe\">\n",
       "  <thead>\n",
       "    <tr style=\"text-align: right;\">\n",
       "      <th></th>\n",
       "      <th>userId</th>\n",
       "      <th>movieId</th>\n",
       "      <th>rating</th>\n",
       "    </tr>\n",
       "  </thead>\n",
       "  <tbody>\n",
       "    <tr>\n",
       "      <th>5954604</th>\n",
       "      <td>122380</td>\n",
       "      <td>31445</td>\n",
       "      <td>2.5</td>\n",
       "    </tr>\n",
       "    <tr>\n",
       "      <th>1460784</th>\n",
       "      <td>22380</td>\n",
       "      <td>56775</td>\n",
       "      <td>4.0</td>\n",
       "    </tr>\n",
       "  </tbody>\n",
       "</table>\n",
       "</div>"
      ],
      "text/plain": [
       "         userId  movieId  rating\n",
       "5954604  122380    31445     2.5\n",
       "1460784   22380    56775     4.0"
      ]
     },
     "execution_count": 23,
     "metadata": {},
     "output_type": "execute_result"
    }
   ],
   "source": [
    "base_df = train_df[['userId', 'movieId', 'rating']]\n",
    "base_df.head(2)"
   ]
  },
  {
   "cell_type": "code",
   "execution_count": 24,
   "metadata": {
    "colab": {
     "base_uri": "https://localhost:8080/"
    },
    "id": "Fa6HsAPutCmH",
    "outputId": "b6aa6101-3bab-41e0-ccbb-5f5b7517f7d0"
   },
   "outputs": [
    {
     "data": {
      "text/plain": [
       "userId     0\n",
       "movieId    0\n",
       "rating     0\n",
       "dtype: int64"
      ]
     },
     "execution_count": 24,
     "metadata": {},
     "output_type": "execute_result"
    }
   ],
   "source": [
    "'''\n",
    "Confirming READINESS for application of our Base Training Data having\n",
    "Only Two Non-null labels and one Target variable (RATINGS).\n",
    "'''\n",
    "base_df.isna().sum()"
   ]
  },
  {
   "cell_type": "markdown",
   "metadata": {
    "id": "ouJabksZtCmI"
   },
   "source": [
    "NEXT; Let's merge all relevant features to one dataframe, to serve as an upgraded version of our Base_df"
   ]
  },
  {
   "cell_type": "code",
   "execution_count": 25,
   "metadata": {
    "colab": {
     "base_uri": "https://localhost:8080/",
     "height": 206
    },
    "id": "BExe06hrmRhy",
    "outputId": "9a8bcec8-14ac-44d3-a236-ab094ce8316d"
   },
   "outputs": [
    {
     "data": {
      "text/html": [
       "<div>\n",
       "<style scoped>\n",
       "    .dataframe tbody tr th:only-of-type {\n",
       "        vertical-align: middle;\n",
       "    }\n",
       "\n",
       "    .dataframe tbody tr th {\n",
       "        vertical-align: top;\n",
       "    }\n",
       "\n",
       "    .dataframe thead th {\n",
       "        text-align: right;\n",
       "    }\n",
       "</style>\n",
       "<table border=\"1\" class=\"dataframe\">\n",
       "  <thead>\n",
       "    <tr style=\"text-align: right;\">\n",
       "      <th></th>\n",
       "      <th>movieId</th>\n",
       "      <th>tagId</th>\n",
       "      <th>relevance</th>\n",
       "    </tr>\n",
       "  </thead>\n",
       "  <tbody>\n",
       "    <tr>\n",
       "      <th>0</th>\n",
       "      <td>1</td>\n",
       "      <td>1</td>\n",
       "      <td>0.02875</td>\n",
       "    </tr>\n",
       "    <tr>\n",
       "      <th>1</th>\n",
       "      <td>1</td>\n",
       "      <td>2</td>\n",
       "      <td>0.02375</td>\n",
       "    </tr>\n",
       "    <tr>\n",
       "      <th>2</th>\n",
       "      <td>1</td>\n",
       "      <td>3</td>\n",
       "      <td>0.06250</td>\n",
       "    </tr>\n",
       "    <tr>\n",
       "      <th>3</th>\n",
       "      <td>1</td>\n",
       "      <td>4</td>\n",
       "      <td>0.07575</td>\n",
       "    </tr>\n",
       "    <tr>\n",
       "      <th>4</th>\n",
       "      <td>1</td>\n",
       "      <td>5</td>\n",
       "      <td>0.14075</td>\n",
       "    </tr>\n",
       "  </tbody>\n",
       "</table>\n",
       "</div>"
      ],
      "text/plain": [
       "   movieId  tagId  relevance\n",
       "0        1      1    0.02875\n",
       "1        1      2    0.02375\n",
       "2        1      3    0.06250\n",
       "3        1      4    0.07575\n",
       "4        1      5    0.14075"
      ]
     },
     "execution_count": 25,
     "metadata": {},
     "output_type": "execute_result"
    }
   ],
   "source": [
    "genome_scores_df.head()"
   ]
  },
  {
   "cell_type": "code",
   "execution_count": 26,
   "metadata": {
    "colab": {
     "base_uri": "https://localhost:8080/",
     "height": 206
    },
    "id": "92l8z6LvtCmJ",
    "outputId": "f078d42e-229e-4568-a1d0-91c384493b96"
   },
   "outputs": [
    {
     "data": {
      "text/html": [
       "<div>\n",
       "<style scoped>\n",
       "    .dataframe tbody tr th:only-of-type {\n",
       "        vertical-align: middle;\n",
       "    }\n",
       "\n",
       "    .dataframe tbody tr th {\n",
       "        vertical-align: top;\n",
       "    }\n",
       "\n",
       "    .dataframe thead th {\n",
       "        text-align: right;\n",
       "    }\n",
       "</style>\n",
       "<table border=\"1\" class=\"dataframe\">\n",
       "  <thead>\n",
       "    <tr style=\"text-align: right;\">\n",
       "      <th></th>\n",
       "      <th>movieId</th>\n",
       "      <th>relevance</th>\n",
       "    </tr>\n",
       "  </thead>\n",
       "  <tbody>\n",
       "    <tr>\n",
       "      <th>0</th>\n",
       "      <td>1</td>\n",
       "      <td>0.163382</td>\n",
       "    </tr>\n",
       "    <tr>\n",
       "      <th>1</th>\n",
       "      <td>2</td>\n",
       "      <td>0.122205</td>\n",
       "    </tr>\n",
       "    <tr>\n",
       "      <th>2</th>\n",
       "      <td>3</td>\n",
       "      <td>0.092110</td>\n",
       "    </tr>\n",
       "    <tr>\n",
       "      <th>3</th>\n",
       "      <td>4</td>\n",
       "      <td>0.087318</td>\n",
       "    </tr>\n",
       "    <tr>\n",
       "      <th>4</th>\n",
       "      <td>5</td>\n",
       "      <td>0.093966</td>\n",
       "    </tr>\n",
       "  </tbody>\n",
       "</table>\n",
       "</div>"
      ],
      "text/plain": [
       "   movieId  relevance\n",
       "0        1   0.163382\n",
       "1        2   0.122205\n",
       "2        3   0.092110\n",
       "3        4   0.087318\n",
       "4        5   0.093966"
      ]
     },
     "execution_count": 26,
     "metadata": {},
     "output_type": "execute_result"
    }
   ],
   "source": [
    "# From genome_scores, groupby movieId with the corresponding mean RELEVANCE\n",
    "gf = genome_scores_df.groupby(['movieId'])['relevance'].mean().reset_index()\n",
    "gf.head()"
   ]
  },
  {
   "cell_type": "code",
   "execution_count": 114,
   "metadata": {
    "colab": {
     "base_uri": "https://localhost:8080/",
     "height": 206
    },
    "id": "dVHBT0hptCmK",
    "outputId": "e3a6e195-244e-4d31-c0b1-f2767f516fa1"
   },
   "outputs": [
    {
     "data": {
      "text/html": [
       "<div>\n",
       "<style scoped>\n",
       "    .dataframe tbody tr th:only-of-type {\n",
       "        vertical-align: middle;\n",
       "    }\n",
       "\n",
       "    .dataframe tbody tr th {\n",
       "        vertical-align: top;\n",
       "    }\n",
       "\n",
       "    .dataframe thead th {\n",
       "        text-align: right;\n",
       "    }\n",
       "</style>\n",
       "<table border=\"1\" class=\"dataframe\">\n",
       "  <thead>\n",
       "    <tr style=\"text-align: right;\">\n",
       "      <th></th>\n",
       "      <th>userId</th>\n",
       "      <th>movieId</th>\n",
       "      <th>rating</th>\n",
       "      <th>timestamp</th>\n",
       "      <th>relevance</th>\n",
       "    </tr>\n",
       "  </thead>\n",
       "  <tbody>\n",
       "    <tr>\n",
       "      <th>0</th>\n",
       "      <td>122380</td>\n",
       "      <td>31445</td>\n",
       "      <td>2.5</td>\n",
       "      <td>1159967140</td>\n",
       "      <td>0.112086</td>\n",
       "    </tr>\n",
       "    <tr>\n",
       "      <th>1</th>\n",
       "      <td>22380</td>\n",
       "      <td>56775</td>\n",
       "      <td>4.0</td>\n",
       "      <td>1343936580</td>\n",
       "      <td>0.117616</td>\n",
       "    </tr>\n",
       "    <tr>\n",
       "      <th>2</th>\n",
       "      <td>104339</td>\n",
       "      <td>356</td>\n",
       "      <td>2.5</td>\n",
       "      <td>1111529397</td>\n",
       "      <td>0.204825</td>\n",
       "    </tr>\n",
       "    <tr>\n",
       "      <th>3</th>\n",
       "      <td>64877</td>\n",
       "      <td>6874</td>\n",
       "      <td>4.0</td>\n",
       "      <td>1513800297</td>\n",
       "      <td>0.199196</td>\n",
       "    </tr>\n",
       "    <tr>\n",
       "      <th>4</th>\n",
       "      <td>63164</td>\n",
       "      <td>2762</td>\n",
       "      <td>5.0</td>\n",
       "      <td>1005315064</td>\n",
       "      <td>0.193846</td>\n",
       "    </tr>\n",
       "  </tbody>\n",
       "</table>\n",
       "</div>"
      ],
      "text/plain": [
       "   userId  movieId  rating   timestamp  relevance\n",
       "0  122380    31445     2.5  1159967140   0.112086\n",
       "1   22380    56775     4.0  1343936580   0.117616\n",
       "2  104339      356     2.5  1111529397   0.204825\n",
       "3   64877     6874     4.0  1513800297   0.199196\n",
       "4   63164     2762     5.0  1005315064   0.193846"
      ]
     },
     "execution_count": 114,
     "metadata": {},
     "output_type": "execute_result"
    }
   ],
   "source": [
    "# Merging the train & genome_scores to get relevance score  based on unique movieId                \n",
    "updated_df = pd.merge(train_df, gf, how ='left', on ='movieId').fillna(gf['relevance'].mean())\n",
    "updated_df.head()"
   ]
  },
  {
   "cell_type": "code",
   "execution_count": 115,
   "metadata": {
    "colab": {
     "base_uri": "https://localhost:8080/",
     "height": 206
    },
    "id": "bd8lLYkqtCmL",
    "outputId": "3584bc27-8f9a-4419-c30e-c6818590ec34"
   },
   "outputs": [
    {
     "data": {
      "text/html": [
       "<div>\n",
       "<style scoped>\n",
       "    .dataframe tbody tr th:only-of-type {\n",
       "        vertical-align: middle;\n",
       "    }\n",
       "\n",
       "    .dataframe tbody tr th {\n",
       "        vertical-align: top;\n",
       "    }\n",
       "\n",
       "    .dataframe thead th {\n",
       "        text-align: right;\n",
       "    }\n",
       "</style>\n",
       "<table border=\"1\" class=\"dataframe\">\n",
       "  <thead>\n",
       "    <tr style=\"text-align: right;\">\n",
       "      <th></th>\n",
       "      <th>userId</th>\n",
       "      <th>movieId</th>\n",
       "      <th>rating</th>\n",
       "      <th>timestamp</th>\n",
       "      <th>relevance</th>\n",
       "      <th>genres</th>\n",
       "    </tr>\n",
       "  </thead>\n",
       "  <tbody>\n",
       "    <tr>\n",
       "      <th>0</th>\n",
       "      <td>122380</td>\n",
       "      <td>31445</td>\n",
       "      <td>2.5</td>\n",
       "      <td>1159967140</td>\n",
       "      <td>0.112086</td>\n",
       "      <td>Comedy|Drama</td>\n",
       "    </tr>\n",
       "    <tr>\n",
       "      <th>1</th>\n",
       "      <td>22380</td>\n",
       "      <td>56775</td>\n",
       "      <td>4.0</td>\n",
       "      <td>1343936580</td>\n",
       "      <td>0.117616</td>\n",
       "      <td>Action|Adventure</td>\n",
       "    </tr>\n",
       "    <tr>\n",
       "      <th>2</th>\n",
       "      <td>104339</td>\n",
       "      <td>356</td>\n",
       "      <td>2.5</td>\n",
       "      <td>1111529397</td>\n",
       "      <td>0.204825</td>\n",
       "      <td>Comedy|Drama|Romance|War</td>\n",
       "    </tr>\n",
       "    <tr>\n",
       "      <th>3</th>\n",
       "      <td>64877</td>\n",
       "      <td>6874</td>\n",
       "      <td>4.0</td>\n",
       "      <td>1513800297</td>\n",
       "      <td>0.199196</td>\n",
       "      <td>Action|Crime|Thriller</td>\n",
       "    </tr>\n",
       "    <tr>\n",
       "      <th>4</th>\n",
       "      <td>63164</td>\n",
       "      <td>2762</td>\n",
       "      <td>5.0</td>\n",
       "      <td>1005315064</td>\n",
       "      <td>0.193846</td>\n",
       "      <td>Drama|Horror|Mystery</td>\n",
       "    </tr>\n",
       "  </tbody>\n",
       "</table>\n",
       "</div>"
      ],
      "text/plain": [
       "   userId  movieId  rating   timestamp  relevance                    genres\n",
       "0  122380    31445     2.5  1159967140   0.112086              Comedy|Drama\n",
       "1   22380    56775     4.0  1343936580   0.117616          Action|Adventure\n",
       "2  104339      356     2.5  1111529397   0.204825  Comedy|Drama|Romance|War\n",
       "3   64877     6874     4.0  1513800297   0.199196     Action|Crime|Thriller\n",
       "4   63164     2762     5.0  1005315064   0.193846      Drama|Horror|Mystery"
      ]
     },
     "execution_count": 115,
     "metadata": {},
     "output_type": "execute_result"
    }
   ],
   "source": [
    "# NEXT: We Merge the Updated_df & Movies Table to get GENRE         \n",
    "updated_df = pd.merge(updated_df, movies_df[['movieId', 'genres']], how ='left', on ='movieId')\n",
    "updated_df.head()"
   ]
  },
  {
   "cell_type": "code",
   "execution_count": 116,
   "metadata": {
    "colab": {
     "base_uri": "https://localhost:8080/",
     "height": 528
    },
    "id": "d-Cl91TatCmM",
    "outputId": "d12ab17c-1cc7-40aa-fc69-41456f4c45ca"
   },
   "outputs": [
    {
     "data": {
      "text/html": [
       "<div>\n",
       "<style scoped>\n",
       "    .dataframe tbody tr th:only-of-type {\n",
       "        vertical-align: middle;\n",
       "    }\n",
       "\n",
       "    .dataframe tbody tr th {\n",
       "        vertical-align: top;\n",
       "    }\n",
       "\n",
       "    .dataframe thead th {\n",
       "        text-align: right;\n",
       "    }\n",
       "</style>\n",
       "<table border=\"1\" class=\"dataframe\">\n",
       "  <thead>\n",
       "    <tr style=\"text-align: right;\">\n",
       "      <th></th>\n",
       "      <th>userId</th>\n",
       "      <th>movieId</th>\n",
       "      <th>rating</th>\n",
       "      <th>timestamp</th>\n",
       "      <th>relevance</th>\n",
       "      <th>genres</th>\n",
       "      <th>title_cast</th>\n",
       "      <th>plot_keywords</th>\n",
       "    </tr>\n",
       "  </thead>\n",
       "  <tbody>\n",
       "    <tr>\n",
       "      <th>0</th>\n",
       "      <td>122380</td>\n",
       "      <td>31445</td>\n",
       "      <td>2.5</td>\n",
       "      <td>1159967140</td>\n",
       "      <td>0.112086</td>\n",
       "      <td>Comedy|Drama</td>\n",
       "      <td>Matt Dillon|Steve Zahn|Christina Applegate|And...</td>\n",
       "      <td>hare krishna|bank|engagement|hooker</td>\n",
       "    </tr>\n",
       "    <tr>\n",
       "      <th>1</th>\n",
       "      <td>22380</td>\n",
       "      <td>56775</td>\n",
       "      <td>4.0</td>\n",
       "      <td>1343936580</td>\n",
       "      <td>0.117616</td>\n",
       "      <td>Action|Adventure</td>\n",
       "      <td>Nicolas Cage|Justin Bartha|Diane Kruger|Jon Vo...</td>\n",
       "      <td>cleavage|divorce|abraham lincoln character|joh...</td>\n",
       "    </tr>\n",
       "    <tr>\n",
       "      <th>2</th>\n",
       "      <td>104339</td>\n",
       "      <td>356</td>\n",
       "      <td>2.5</td>\n",
       "      <td>1111529397</td>\n",
       "      <td>0.204825</td>\n",
       "      <td>Comedy|Drama|Romance|War</td>\n",
       "      <td>Tom Hanks|Rebecca Williams|Sally Field|Michael...</td>\n",
       "      <td>vietnam war|amputee|war hero|based on book</td>\n",
       "    </tr>\n",
       "    <tr>\n",
       "      <th>3</th>\n",
       "      <td>64877</td>\n",
       "      <td>6874</td>\n",
       "      <td>4.0</td>\n",
       "      <td>1513800297</td>\n",
       "      <td>0.199196</td>\n",
       "      <td>Action|Crime|Thriller</td>\n",
       "      <td>Uma Thurman|Lucy Liu|Vivica A. Fox|Daryl Hanna...</td>\n",
       "      <td>revenge|bride|sword|female protagonist</td>\n",
       "    </tr>\n",
       "    <tr>\n",
       "      <th>4</th>\n",
       "      <td>63164</td>\n",
       "      <td>2762</td>\n",
       "      <td>5.0</td>\n",
       "      <td>1005315064</td>\n",
       "      <td>0.193846</td>\n",
       "      <td>Drama|Horror|Mystery</td>\n",
       "      <td>Bruce Willis|Haley Joel Osment|Toni Collette|O...</td>\n",
       "      <td>surprise ending|single mother|able to see the ...</td>\n",
       "    </tr>\n",
       "    <tr>\n",
       "      <th>5</th>\n",
       "      <td>78757</td>\n",
       "      <td>4589</td>\n",
       "      <td>4.0</td>\n",
       "      <td>1235978612</td>\n",
       "      <td>0.103434</td>\n",
       "      <td>Drama|Musical|Mystery</td>\n",
       "      <td>NaN</td>\n",
       "      <td>NaN</td>\n",
       "    </tr>\n",
       "    <tr>\n",
       "      <th>6</th>\n",
       "      <td>79382</td>\n",
       "      <td>72733</td>\n",
       "      <td>4.0</td>\n",
       "      <td>1533846266</td>\n",
       "      <td>0.129870</td>\n",
       "      <td>Drama</td>\n",
       "      <td>Morgan Freeman|Matt Damon|Tony Kgoroge|Patrick...</td>\n",
       "      <td>south africa|rugby|president|watching television</td>\n",
       "    </tr>\n",
       "    <tr>\n",
       "      <th>7</th>\n",
       "      <td>35374</td>\n",
       "      <td>7090</td>\n",
       "      <td>0.5</td>\n",
       "      <td>1244267382</td>\n",
       "      <td>0.177276</td>\n",
       "      <td>Action|Adventure|Drama</td>\n",
       "      <td>Jet Li|Tony Chiu-Wai Leung|Maggie Cheung|Ziyi ...</td>\n",
       "      <td>3rd century b.c.|assassin|ancient china|wuxia</td>\n",
       "    </tr>\n",
       "    <tr>\n",
       "      <th>8</th>\n",
       "      <td>88427</td>\n",
       "      <td>1196</td>\n",
       "      <td>5.0</td>\n",
       "      <td>1567006070</td>\n",
       "      <td>0.215649</td>\n",
       "      <td>Action|Adventure|Sci-Fi</td>\n",
       "      <td>NaN</td>\n",
       "      <td>NaN</td>\n",
       "    </tr>\n",
       "    <tr>\n",
       "      <th>9</th>\n",
       "      <td>134456</td>\n",
       "      <td>2355</td>\n",
       "      <td>4.0</td>\n",
       "      <td>975263808</td>\n",
       "      <td>0.139959</td>\n",
       "      <td>Adventure|Animation|Children|Comedy</td>\n",
       "      <td>Dave Foley|Kevin Spacey|Julia Louis-Dreyfus|Ha...</td>\n",
       "      <td>ant|circus|anthropomorphic insect|grasshopper</td>\n",
       "    </tr>\n",
       "  </tbody>\n",
       "</table>\n",
       "</div>"
      ],
      "text/plain": [
       "   userId  movieId  rating   timestamp  relevance  \\\n",
       "0  122380    31445     2.5  1159967140   0.112086   \n",
       "1   22380    56775     4.0  1343936580   0.117616   \n",
       "2  104339      356     2.5  1111529397   0.204825   \n",
       "3   64877     6874     4.0  1513800297   0.199196   \n",
       "4   63164     2762     5.0  1005315064   0.193846   \n",
       "5   78757     4589     4.0  1235978612   0.103434   \n",
       "6   79382    72733     4.0  1533846266   0.129870   \n",
       "7   35374     7090     0.5  1244267382   0.177276   \n",
       "8   88427     1196     5.0  1567006070   0.215649   \n",
       "9  134456     2355     4.0   975263808   0.139959   \n",
       "\n",
       "                                genres  \\\n",
       "0                         Comedy|Drama   \n",
       "1                     Action|Adventure   \n",
       "2             Comedy|Drama|Romance|War   \n",
       "3                Action|Crime|Thriller   \n",
       "4                 Drama|Horror|Mystery   \n",
       "5                Drama|Musical|Mystery   \n",
       "6                                Drama   \n",
       "7               Action|Adventure|Drama   \n",
       "8              Action|Adventure|Sci-Fi   \n",
       "9  Adventure|Animation|Children|Comedy   \n",
       "\n",
       "                                          title_cast  \\\n",
       "0  Matt Dillon|Steve Zahn|Christina Applegate|And...   \n",
       "1  Nicolas Cage|Justin Bartha|Diane Kruger|Jon Vo...   \n",
       "2  Tom Hanks|Rebecca Williams|Sally Field|Michael...   \n",
       "3  Uma Thurman|Lucy Liu|Vivica A. Fox|Daryl Hanna...   \n",
       "4  Bruce Willis|Haley Joel Osment|Toni Collette|O...   \n",
       "5                                                NaN   \n",
       "6  Morgan Freeman|Matt Damon|Tony Kgoroge|Patrick...   \n",
       "7  Jet Li|Tony Chiu-Wai Leung|Maggie Cheung|Ziyi ...   \n",
       "8                                                NaN   \n",
       "9  Dave Foley|Kevin Spacey|Julia Louis-Dreyfus|Ha...   \n",
       "\n",
       "                                       plot_keywords  \n",
       "0                hare krishna|bank|engagement|hooker  \n",
       "1  cleavage|divorce|abraham lincoln character|joh...  \n",
       "2         vietnam war|amputee|war hero|based on book  \n",
       "3             revenge|bride|sword|female protagonist  \n",
       "4  surprise ending|single mother|able to see the ...  \n",
       "5                                                NaN  \n",
       "6   south africa|rugby|president|watching television  \n",
       "7      3rd century b.c.|assassin|ancient china|wuxia  \n",
       "8                                                NaN  \n",
       "9      ant|circus|anthropomorphic insect|grasshopper  "
      ]
     },
     "execution_count": 116,
     "metadata": {},
     "output_type": "execute_result"
    }
   ],
   "source": [
    "\"\"\"Now we are making progress\"\"\"\n",
    "# NEXT: we merge the CAST and Plot-Keywords into our Updated Dataframe.               \n",
    "updated_df = pd.merge(updated_df, imdb_data_df[['movieId', 'title_cast', 'plot_keywords']], how ='left', on ='movieId')\n",
    "updated_df.head(10)"
   ]
  },
  {
   "cell_type": "markdown",
   "metadata": {
    "id": "3YIScFnYtCmM"
   },
   "source": [
    "Now we have some cleaning to do."
   ]
  },
  {
   "cell_type": "code",
   "execution_count": 117,
   "metadata": {
    "colab": {
     "base_uri": "https://localhost:8080/"
    },
    "id": "t9yEu16ytCmN",
    "outputId": "524b396c-640c-43f3-a7ff-7e3bbb27a956"
   },
   "outputs": [
    {
     "name": "stdout",
     "output_type": "stream",
     "text": [
      "<class 'pandas.core.frame.DataFrame'>\n",
      "Int64Index: 500002 entries, 0 to 500001\n",
      "Data columns (total 8 columns):\n",
      " #   Column         Non-Null Count   Dtype         \n",
      "---  ------         --------------   -----         \n",
      " 0   userId         500002 non-null  int64         \n",
      " 1   movieId        500002 non-null  int64         \n",
      " 2   rating         500002 non-null  float64       \n",
      " 3   timestamp      500002 non-null  datetime64[ns]\n",
      " 4   relevance      500002 non-null  float64       \n",
      " 5   genres         500002 non-null  object        \n",
      " 6   title_cast     350880 non-null  object        \n",
      " 7   plot_keywords  350601 non-null  object        \n",
      "dtypes: datetime64[ns](1), float64(2), int64(2), object(3)\n",
      "memory usage: 34.3+ MB\n"
     ]
    }
   ],
   "source": [
    "# Convert TimeStamp to DateTime\n",
    "updated_df['timestamp']=pd.to_datetime(updated_df['timestamp'])\n",
    "# Check\n",
    "updated_df.info()"
   ]
  },
  {
   "cell_type": "code",
   "execution_count": 118,
   "metadata": {},
   "outputs": [],
   "source": [
    "# # Take Rows were title_cast & plot_keywords are NOT Nan\n",
    "# updated_df = updated_df[updated_df[['title_cast', 'plot_keywords']].notna()]\n",
    "\n",
    "updated_df.dropna(subset=['title_cast', 'plot_keywords'], inplace=True)"
   ]
  },
  {
   "cell_type": "code",
   "execution_count": 119,
   "metadata": {},
   "outputs": [
    {
     "name": "stdout",
     "output_type": "stream",
     "text": [
      "<class 'pandas.core.frame.DataFrame'>\n",
      "Int64Index: 350503 entries, 0 to 500000\n",
      "Data columns (total 8 columns):\n",
      " #   Column         Non-Null Count   Dtype         \n",
      "---  ------         --------------   -----         \n",
      " 0   userId         350503 non-null  int64         \n",
      " 1   movieId        350503 non-null  int64         \n",
      " 2   rating         350503 non-null  float64       \n",
      " 3   timestamp      350503 non-null  datetime64[ns]\n",
      " 4   relevance      350503 non-null  float64       \n",
      " 5   genres         350503 non-null  object        \n",
      " 6   title_cast     350503 non-null  object        \n",
      " 7   plot_keywords  350503 non-null  object        \n",
      "dtypes: datetime64[ns](1), float64(2), int64(2), object(3)\n",
      "memory usage: 24.1+ MB\n"
     ]
    }
   ],
   "source": [
    "updated_df.info()"
   ]
  },
  {
   "cell_type": "code",
   "execution_count": 120,
   "metadata": {},
   "outputs": [
    {
     "data": {
      "text/html": [
       "<div>\n",
       "<style scoped>\n",
       "    .dataframe tbody tr th:only-of-type {\n",
       "        vertical-align: middle;\n",
       "    }\n",
       "\n",
       "    .dataframe tbody tr th {\n",
       "        vertical-align: top;\n",
       "    }\n",
       "\n",
       "    .dataframe thead th {\n",
       "        text-align: right;\n",
       "    }\n",
       "</style>\n",
       "<table border=\"1\" class=\"dataframe\">\n",
       "  <thead>\n",
       "    <tr style=\"text-align: right;\">\n",
       "      <th></th>\n",
       "      <th>userId</th>\n",
       "      <th>movieId</th>\n",
       "      <th>rating</th>\n",
       "      <th>timestamp</th>\n",
       "      <th>relevance</th>\n",
       "      <th>genres</th>\n",
       "      <th>title_cast</th>\n",
       "      <th>plot_keywords</th>\n",
       "    </tr>\n",
       "  </thead>\n",
       "  <tbody>\n",
       "    <tr>\n",
       "      <th>0</th>\n",
       "      <td>122380</td>\n",
       "      <td>31445</td>\n",
       "      <td>2.5</td>\n",
       "      <td>1970-01-01 00:00:01.159967140</td>\n",
       "      <td>0.112086</td>\n",
       "      <td>Comedy|Drama</td>\n",
       "      <td>Matt Dillon|Steve Zahn|Christina Applegate|And...</td>\n",
       "      <td>hare krishna|bank|engagement|hooker</td>\n",
       "    </tr>\n",
       "    <tr>\n",
       "      <th>1</th>\n",
       "      <td>22380</td>\n",
       "      <td>56775</td>\n",
       "      <td>4.0</td>\n",
       "      <td>1970-01-01 00:00:01.343936580</td>\n",
       "      <td>0.117616</td>\n",
       "      <td>Action|Adventure</td>\n",
       "      <td>Nicolas Cage|Justin Bartha|Diane Kruger|Jon Vo...</td>\n",
       "      <td>cleavage|divorce|abraham lincoln character|joh...</td>\n",
       "    </tr>\n",
       "    <tr>\n",
       "      <th>2</th>\n",
       "      <td>104339</td>\n",
       "      <td>356</td>\n",
       "      <td>2.5</td>\n",
       "      <td>1970-01-01 00:00:01.111529397</td>\n",
       "      <td>0.204825</td>\n",
       "      <td>Comedy|Drama|Romance|War</td>\n",
       "      <td>Tom Hanks|Rebecca Williams|Sally Field|Michael...</td>\n",
       "      <td>vietnam war|amputee|war hero|based on book</td>\n",
       "    </tr>\n",
       "    <tr>\n",
       "      <th>3</th>\n",
       "      <td>64877</td>\n",
       "      <td>6874</td>\n",
       "      <td>4.0</td>\n",
       "      <td>1970-01-01 00:00:01.513800297</td>\n",
       "      <td>0.199196</td>\n",
       "      <td>Action|Crime|Thriller</td>\n",
       "      <td>Uma Thurman|Lucy Liu|Vivica A. Fox|Daryl Hanna...</td>\n",
       "      <td>revenge|bride|sword|female protagonist</td>\n",
       "    </tr>\n",
       "    <tr>\n",
       "      <th>4</th>\n",
       "      <td>63164</td>\n",
       "      <td>2762</td>\n",
       "      <td>5.0</td>\n",
       "      <td>1970-01-01 00:00:01.005315064</td>\n",
       "      <td>0.193846</td>\n",
       "      <td>Drama|Horror|Mystery</td>\n",
       "      <td>Bruce Willis|Haley Joel Osment|Toni Collette|O...</td>\n",
       "      <td>surprise ending|single mother|able to see the ...</td>\n",
       "    </tr>\n",
       "  </tbody>\n",
       "</table>\n",
       "</div>"
      ],
      "text/plain": [
       "   userId  movieId  rating                     timestamp  relevance  \\\n",
       "0  122380    31445     2.5 1970-01-01 00:00:01.159967140   0.112086   \n",
       "1   22380    56775     4.0 1970-01-01 00:00:01.343936580   0.117616   \n",
       "2  104339      356     2.5 1970-01-01 00:00:01.111529397   0.204825   \n",
       "3   64877     6874     4.0 1970-01-01 00:00:01.513800297   0.199196   \n",
       "4   63164     2762     5.0 1970-01-01 00:00:01.005315064   0.193846   \n",
       "\n",
       "                     genres  \\\n",
       "0              Comedy|Drama   \n",
       "1          Action|Adventure   \n",
       "2  Comedy|Drama|Romance|War   \n",
       "3     Action|Crime|Thriller   \n",
       "4      Drama|Horror|Mystery   \n",
       "\n",
       "                                          title_cast  \\\n",
       "0  Matt Dillon|Steve Zahn|Christina Applegate|And...   \n",
       "1  Nicolas Cage|Justin Bartha|Diane Kruger|Jon Vo...   \n",
       "2  Tom Hanks|Rebecca Williams|Sally Field|Michael...   \n",
       "3  Uma Thurman|Lucy Liu|Vivica A. Fox|Daryl Hanna...   \n",
       "4  Bruce Willis|Haley Joel Osment|Toni Collette|O...   \n",
       "\n",
       "                                       plot_keywords  \n",
       "0                hare krishna|bank|engagement|hooker  \n",
       "1  cleavage|divorce|abraham lincoln character|joh...  \n",
       "2         vietnam war|amputee|war hero|based on book  \n",
       "3             revenge|bride|sword|female protagonist  \n",
       "4  surprise ending|single mother|able to see the ...  "
      ]
     },
     "execution_count": 120,
     "metadata": {},
     "output_type": "execute_result"
    }
   ],
   "source": [
    "updated_df.head()"
   ]
  },
  {
   "cell_type": "code",
   "execution_count": 121,
   "metadata": {},
   "outputs": [
    {
     "data": {
      "text/html": [
       "<div>\n",
       "<style scoped>\n",
       "    .dataframe tbody tr th:only-of-type {\n",
       "        vertical-align: middle;\n",
       "    }\n",
       "\n",
       "    .dataframe tbody tr th {\n",
       "        vertical-align: top;\n",
       "    }\n",
       "\n",
       "    .dataframe thead th {\n",
       "        text-align: right;\n",
       "    }\n",
       "</style>\n",
       "<table border=\"1\" class=\"dataframe\">\n",
       "  <thead>\n",
       "    <tr style=\"text-align: right;\">\n",
       "      <th></th>\n",
       "      <th>userId</th>\n",
       "      <th>movieId</th>\n",
       "      <th>rating</th>\n",
       "      <th>timestamp</th>\n",
       "      <th>relevance</th>\n",
       "      <th>genres</th>\n",
       "      <th>title_cast</th>\n",
       "      <th>plot_keywords</th>\n",
       "    </tr>\n",
       "  </thead>\n",
       "  <tbody>\n",
       "    <tr>\n",
       "      <th>0</th>\n",
       "      <td>122380</td>\n",
       "      <td>31445</td>\n",
       "      <td>2.5</td>\n",
       "      <td>1970-01-01 00:00:01.159967140</td>\n",
       "      <td>0.112086</td>\n",
       "      <td>[Comedy, Drama]</td>\n",
       "      <td>[Matt Dillon, Steve Zahn, Christina Applegate,...</td>\n",
       "      <td>[hare krishna, bank, engagement, hooker]</td>\n",
       "    </tr>\n",
       "    <tr>\n",
       "      <th>1</th>\n",
       "      <td>22380</td>\n",
       "      <td>56775</td>\n",
       "      <td>4.0</td>\n",
       "      <td>1970-01-01 00:00:01.343936580</td>\n",
       "      <td>0.117616</td>\n",
       "      <td>[Action, Adventure]</td>\n",
       "      <td>[Nicolas Cage, Justin Bartha, Diane Kruger, Jo...</td>\n",
       "      <td>[cleavage, divorce, abraham lincoln character,...</td>\n",
       "    </tr>\n",
       "    <tr>\n",
       "      <th>2</th>\n",
       "      <td>104339</td>\n",
       "      <td>356</td>\n",
       "      <td>2.5</td>\n",
       "      <td>1970-01-01 00:00:01.111529397</td>\n",
       "      <td>0.204825</td>\n",
       "      <td>[Comedy, Drama, Romance, War]</td>\n",
       "      <td>[Tom Hanks, Rebecca Williams, Sally Field, Mic...</td>\n",
       "      <td>[vietnam war, amputee, war hero, based on book]</td>\n",
       "    </tr>\n",
       "    <tr>\n",
       "      <th>3</th>\n",
       "      <td>64877</td>\n",
       "      <td>6874</td>\n",
       "      <td>4.0</td>\n",
       "      <td>1970-01-01 00:00:01.513800297</td>\n",
       "      <td>0.199196</td>\n",
       "      <td>[Action, Crime, Thriller]</td>\n",
       "      <td>[Uma Thurman, Lucy Liu, Vivica A. Fox, Daryl H...</td>\n",
       "      <td>[revenge, bride, sword, female protagonist]</td>\n",
       "    </tr>\n",
       "    <tr>\n",
       "      <th>4</th>\n",
       "      <td>63164</td>\n",
       "      <td>2762</td>\n",
       "      <td>5.0</td>\n",
       "      <td>1970-01-01 00:00:01.005315064</td>\n",
       "      <td>0.193846</td>\n",
       "      <td>[Drama, Horror, Mystery]</td>\n",
       "      <td>[Bruce Willis, Haley Joel Osment, Toni Collett...</td>\n",
       "      <td>[surprise ending, single mother, able to see t...</td>\n",
       "    </tr>\n",
       "  </tbody>\n",
       "</table>\n",
       "</div>"
      ],
      "text/plain": [
       "   userId  movieId  rating                     timestamp  relevance  \\\n",
       "0  122380    31445     2.5 1970-01-01 00:00:01.159967140   0.112086   \n",
       "1   22380    56775     4.0 1970-01-01 00:00:01.343936580   0.117616   \n",
       "2  104339      356     2.5 1970-01-01 00:00:01.111529397   0.204825   \n",
       "3   64877     6874     4.0 1970-01-01 00:00:01.513800297   0.199196   \n",
       "4   63164     2762     5.0 1970-01-01 00:00:01.005315064   0.193846   \n",
       "\n",
       "                          genres  \\\n",
       "0                [Comedy, Drama]   \n",
       "1            [Action, Adventure]   \n",
       "2  [Comedy, Drama, Romance, War]   \n",
       "3      [Action, Crime, Thriller]   \n",
       "4       [Drama, Horror, Mystery]   \n",
       "\n",
       "                                          title_cast  \\\n",
       "0  [Matt Dillon, Steve Zahn, Christina Applegate,...   \n",
       "1  [Nicolas Cage, Justin Bartha, Diane Kruger, Jo...   \n",
       "2  [Tom Hanks, Rebecca Williams, Sally Field, Mic...   \n",
       "3  [Uma Thurman, Lucy Liu, Vivica A. Fox, Daryl H...   \n",
       "4  [Bruce Willis, Haley Joel Osment, Toni Collett...   \n",
       "\n",
       "                                       plot_keywords  \n",
       "0           [hare krishna, bank, engagement, hooker]  \n",
       "1  [cleavage, divorce, abraham lincoln character,...  \n",
       "2    [vietnam war, amputee, war hero, based on book]  \n",
       "3        [revenge, bride, sword, female protagonist]  \n",
       "4  [surprise ending, single mother, able to see t...  "
      ]
     },
     "execution_count": 121,
     "metadata": {},
     "output_type": "execute_result"
    }
   ],
   "source": [
    "# https://gist.github.com/brt-h/13a1c935738ef742d3a3600828245469\n",
    "# Every title_cast, genres and plot_keywords is separated by a | \n",
    "# so we simply have to call the split function on |\n",
    "updated_df['genres'] = updated_df.genres.str.split('|')\n",
    "updated_df['title_cast'] = updated_df.title_cast.str.split('|')\n",
    "updated_df['plot_keywords'] = updated_df.plot_keywords.str.split('|')\n",
    "updated_df.head()"
   ]
  },
  {
   "cell_type": "code",
   "execution_count": 122,
   "metadata": {},
   "outputs": [
    {
     "data": {
      "text/html": [
       "<div>\n",
       "<style scoped>\n",
       "    .dataframe tbody tr th:only-of-type {\n",
       "        vertical-align: middle;\n",
       "    }\n",
       "\n",
       "    .dataframe tbody tr th {\n",
       "        vertical-align: top;\n",
       "    }\n",
       "\n",
       "    .dataframe thead th {\n",
       "        text-align: right;\n",
       "    }\n",
       "</style>\n",
       "<table border=\"1\" class=\"dataframe\">\n",
       "  <thead>\n",
       "    <tr style=\"text-align: right;\">\n",
       "      <th></th>\n",
       "      <th>userId</th>\n",
       "      <th>movieId</th>\n",
       "      <th>relevance</th>\n",
       "      <th>contents</th>\n",
       "      <th>rating</th>\n",
       "    </tr>\n",
       "  </thead>\n",
       "  <tbody>\n",
       "    <tr>\n",
       "      <th>0</th>\n",
       "      <td>122380</td>\n",
       "      <td>31445</td>\n",
       "      <td>0.112086</td>\n",
       "      <td>[Comedy, Drama, Matt Dillon, Steve Zahn, Chris...</td>\n",
       "      <td>2.5</td>\n",
       "    </tr>\n",
       "    <tr>\n",
       "      <th>1</th>\n",
       "      <td>22380</td>\n",
       "      <td>56775</td>\n",
       "      <td>0.117616</td>\n",
       "      <td>[Action, Adventure, Nicolas Cage, Justin Barth...</td>\n",
       "      <td>4.0</td>\n",
       "    </tr>\n",
       "    <tr>\n",
       "      <th>2</th>\n",
       "      <td>104339</td>\n",
       "      <td>356</td>\n",
       "      <td>0.204825</td>\n",
       "      <td>[Comedy, Drama, Romance, War, Tom Hanks, Rebec...</td>\n",
       "      <td>2.5</td>\n",
       "    </tr>\n",
       "    <tr>\n",
       "      <th>3</th>\n",
       "      <td>64877</td>\n",
       "      <td>6874</td>\n",
       "      <td>0.199196</td>\n",
       "      <td>[Action, Crime, Thriller, Uma Thurman, Lucy Li...</td>\n",
       "      <td>4.0</td>\n",
       "    </tr>\n",
       "    <tr>\n",
       "      <th>4</th>\n",
       "      <td>63164</td>\n",
       "      <td>2762</td>\n",
       "      <td>0.193846</td>\n",
       "      <td>[Drama, Horror, Mystery, Bruce Willis, Haley J...</td>\n",
       "      <td>5.0</td>\n",
       "    </tr>\n",
       "  </tbody>\n",
       "</table>\n",
       "</div>"
      ],
      "text/plain": [
       "   userId  movieId  relevance  \\\n",
       "0  122380    31445   0.112086   \n",
       "1   22380    56775   0.117616   \n",
       "2  104339      356   0.204825   \n",
       "3   64877     6874   0.199196   \n",
       "4   63164     2762   0.193846   \n",
       "\n",
       "                                            contents  rating  \n",
       "0  [Comedy, Drama, Matt Dillon, Steve Zahn, Chris...     2.5  \n",
       "1  [Action, Adventure, Nicolas Cage, Justin Barth...     4.0  \n",
       "2  [Comedy, Drama, Romance, War, Tom Hanks, Rebec...     2.5  \n",
       "3  [Action, Crime, Thriller, Uma Thurman, Lucy Li...     4.0  \n",
       "4  [Drama, Horror, Mystery, Bruce Willis, Haley J...     5.0  "
      ]
     },
     "execution_count": 122,
     "metadata": {},
     "output_type": "execute_result"
    }
   ],
   "source": [
    "# Put title_cast, genres, plot_keywords into ONE COlUMN(Content/Tokens)\n",
    "updated_df[\"contents\"] = updated_df[\"genres\"] + updated_df[\"title_cast\"] + updated_df[\"plot_keywords\"]\n",
    "final_df = updated_df[[\"userId\", \"movieId\", \"relevance\", \"contents\", \"rating\"]]\n",
    "final_df.head()"
   ]
  },
  {
   "cell_type": "code",
   "execution_count": 123,
   "metadata": {},
   "outputs": [],
   "source": [
    "# # Convert to individual strings\n",
    "# final_df['contents'] = final_df['contents'].apply(lambda x: \"'\" + \"', '\".join(x).lower() + \"'\")"
   ]
  },
  {
   "cell_type": "code",
   "execution_count": 124,
   "metadata": {},
   "outputs": [],
   "source": [
    "def bag_of_words_count(words, word_dict={}):\n",
    "    \"\"\" this function takes in a list of words and returns a dictionary \n",
    "        with each word as a key, and the value represents the number of \n",
    "        times that word appeared\"\"\"\n",
    "    for word in words:\n",
    "        if word in word_dict.keys():\n",
    "            word_dict[word] += 1\n",
    "        else:\n",
    "            word_dict[word] = 1\n",
    "    return word_dict"
   ]
  },
  {
   "cell_type": "code",
   "execution_count": 125,
   "metadata": {
    "id": "TnqrEHxYtCmP"
   },
   "outputs": [],
   "source": [
    "# Next create a set of dictionaries, one for each of the RATING Types.\n",
    "type_labels = list(final_df.rating.unique())\n",
    "rating = {}\n",
    "for pp in type_labels:\n",
    "    df = final_df.groupby('rating')\n",
    "    rating[pp] = {}\n",
    "    for row in df.get_group(pp)['contents']:\n",
    "        rating[pp] = bag_of_words_count(row, rating[pp])   \n",
    "        \n",
    "# Next, we create a list of all of the unique words.\n",
    "all_words = set()\n",
    "for pp in type_labels:\n",
    "    for word in rating[pp]:\n",
    "        all_words.add(word)\n",
    "        \n",
    "# create a combined bag of words dictionary\n",
    "rating['all'] = {}\n",
    "for pp in type_labels:    \n",
    "    for word in all_words:\n",
    "        if word in rating[pp].keys():\n",
    "            if word in rating['all']:\n",
    "                rating['all'][word] += rating[pp][word]\n",
    "            else:\n",
    "                rating['all'][word] = rating[pp][word]"
   ]
  },
  {
   "cell_type": "markdown",
   "metadata": {
    "id": "zqvc1io1tCmQ"
   },
   "source": [
    "For Observations with NAN in the title_cast, plot_keywords columns, we will leave it as effect may not be visible"
   ]
  },
  {
   "cell_type": "code",
   "execution_count": 126,
   "metadata": {
    "id": "JwCPZtWZtCmQ"
   },
   "outputs": [
    {
     "data": {
      "text/plain": [
       "Text(0.5, 1.0, 'Word Map of Movies Rated 5.0')"
      ]
     },
     "execution_count": 126,
     "metadata": {},
     "output_type": "execute_result"
    },
    {
     "data": {
      "image/png": "[encoded data removed]",
      "text/plain": [
       "<Figure size 1080x576 with 6 Axes>"
      ]
     },
     "metadata": {
      "needs_background": "light"
     },
     "output_type": "display_data"
    }
   ],
   "source": [
    "from PIL import Image\n",
    "from wordcloud import WordCloud \n",
    "\n",
    "# RUN WORDCLOUD\n",
    "rating2_5 = WordCloud(width = 1000, height = 500).generate_from_frequencies(rating[2.5])\n",
    "rating_3 = WordCloud(width = 1000, height = 500).generate_from_frequencies(rating[3.0])\n",
    "rating3_5 = WordCloud(width = 1000, height = 500).generate_from_frequencies(rating[3.5])\n",
    "rating_4 = WordCloud(width = 1000, height = 500).generate_from_frequencies(rating[4.0])\n",
    "rating4_5 = WordCloud(width = 1000, height = 500).generate_from_frequencies(rating[4.5])\n",
    "rating_5 = WordCloud(width = 1000, height = 500).generate_from_frequencies(rating[5.0])\n",
    "\n",
    "#Create a canvas\n",
    "fig = plt.figure(figsize=(15,8))\n",
    "# setting values to rows and column variables\n",
    "rows = 2\n",
    "columns = 3\n",
    "\n",
    "# Adds a subplot at the 1st position\n",
    "fig.add_subplot(rows, columns, 1)\n",
    "# showing image\n",
    "plt.imshow(rating2_5)\n",
    "plt.axis('off')\n",
    "plt.title(\"Word Map of Movies Rated 2.5\")\n",
    "  \n",
    "# Adds a subplot at the 2nd position\n",
    "fig.add_subplot(rows, columns, 2)\n",
    "# showing image\n",
    "plt.imshow(rating_3)\n",
    "plt.axis('off')\n",
    "plt.title(\"Word Map of Movies Rated 3.0\")\n",
    "\n",
    "# Adds a subplot at the 3rd position\n",
    "fig.add_subplot(rows, columns, 3)\n",
    "# showing image\n",
    "plt.imshow(rating3_5)\n",
    "plt.axis('off')\n",
    "plt.title(\"Word Map of Movies Rated 3.5\")\n",
    "\n",
    "# Adds a subplot at the 4th position\n",
    "fig.add_subplot(rows, columns, 4)\n",
    "# showing image\n",
    "plt.imshow(rating_4)\n",
    "plt.axis('off')\n",
    "plt.title(\"Word Map of Movies Rated 4.0\")\n",
    "\n",
    "# Adds a subplot at the 4th position\n",
    "fig.add_subplot(rows, columns, 5)\n",
    "# showing image\n",
    "plt.imshow(rating4_5)\n",
    "plt.axis('off')\n",
    "plt.title(\"Word Map of Movies Rated 4.5\")\n",
    "\n",
    "# Adds a subplot at the 4th position\n",
    "fig.add_subplot(rows, columns, 6)\n",
    "# showing image\n",
    "plt.imshow(rating_5)\n",
    "plt.axis('off')\n",
    "plt.title(\"Word Map of Movies Rated 5.0\")"
   ]
  },
  {
   "cell_type": "markdown",
   "metadata": {
    "id": "Bpn5INhztCmS"
   },
   "source": [
    "<a id=\"six\"></a>\n",
    "## 6. Feature Engineering\n",
    "<a href=#cont>Back to Table of Contents</a>\n",
    "\n",
    "Here we will be carrying out certaing operations ranging from `Dimensionality Reduction` to ascertain the funtionality/Effect of ur added features, riding outliers, and generally making ready our data to serves our modelling."
   ]
  },
  {
   "cell_type": "code",
   "execution_count": 138,
   "metadata": {},
   "outputs": [],
   "source": [
    "# First features and label \n",
    "X_train = final_df[[\"userId\", \"movieId\", \"relevance\", \"contents\"]]\n",
    "y_train = final_df[\"rating\"]\n",
    "X_test = test_df[[\"userId\", \"movieId\"]]"
   ]
  },
  {
   "cell_type": "code",
   "execution_count": 139,
   "metadata": {},
   "outputs": [
    {
     "data": {
      "text/html": [
       "<div>\n",
       "<style scoped>\n",
       "    .dataframe tbody tr th:only-of-type {\n",
       "        vertical-align: middle;\n",
       "    }\n",
       "\n",
       "    .dataframe tbody tr th {\n",
       "        vertical-align: top;\n",
       "    }\n",
       "\n",
       "    .dataframe thead th {\n",
       "        text-align: right;\n",
       "    }\n",
       "</style>\n",
       "<table border=\"1\" class=\"dataframe\">\n",
       "  <thead>\n",
       "    <tr style=\"text-align: right;\">\n",
       "      <th></th>\n",
       "      <th>userId</th>\n",
       "      <th>movieId</th>\n",
       "      <th>relevance</th>\n",
       "      <th>contents</th>\n",
       "    </tr>\n",
       "  </thead>\n",
       "  <tbody>\n",
       "    <tr>\n",
       "      <th>0</th>\n",
       "      <td>122380</td>\n",
       "      <td>31445</td>\n",
       "      <td>0.112086</td>\n",
       "      <td>[Comedy, Drama, Matt Dillon, Steve Zahn, Chris...</td>\n",
       "    </tr>\n",
       "    <tr>\n",
       "      <th>1</th>\n",
       "      <td>22380</td>\n",
       "      <td>56775</td>\n",
       "      <td>0.117616</td>\n",
       "      <td>[Action, Adventure, Nicolas Cage, Justin Barth...</td>\n",
       "    </tr>\n",
       "    <tr>\n",
       "      <th>2</th>\n",
       "      <td>104339</td>\n",
       "      <td>356</td>\n",
       "      <td>0.204825</td>\n",
       "      <td>[Comedy, Drama, Romance, War, Tom Hanks, Rebec...</td>\n",
       "    </tr>\n",
       "    <tr>\n",
       "      <th>3</th>\n",
       "      <td>64877</td>\n",
       "      <td>6874</td>\n",
       "      <td>0.199196</td>\n",
       "      <td>[Action, Crime, Thriller, Uma Thurman, Lucy Li...</td>\n",
       "    </tr>\n",
       "    <tr>\n",
       "      <th>4</th>\n",
       "      <td>63164</td>\n",
       "      <td>2762</td>\n",
       "      <td>0.193846</td>\n",
       "      <td>[Drama, Horror, Mystery, Bruce Willis, Haley J...</td>\n",
       "    </tr>\n",
       "  </tbody>\n",
       "</table>\n",
       "</div>"
      ],
      "text/plain": [
       "   userId  movieId  relevance  \\\n",
       "0  122380    31445   0.112086   \n",
       "1   22380    56775   0.117616   \n",
       "2  104339      356   0.204825   \n",
       "3   64877     6874   0.199196   \n",
       "4   63164     2762   0.193846   \n",
       "\n",
       "                                            contents  \n",
       "0  [Comedy, Drama, Matt Dillon, Steve Zahn, Chris...  \n",
       "1  [Action, Adventure, Nicolas Cage, Justin Barth...  \n",
       "2  [Comedy, Drama, Romance, War, Tom Hanks, Rebec...  \n",
       "3  [Action, Crime, Thriller, Uma Thurman, Lucy Li...  \n",
       "4  [Drama, Horror, Mystery, Bruce Willis, Haley J...  "
      ]
     },
     "execution_count": 139,
     "metadata": {},
     "output_type": "execute_result"
    }
   ],
   "source": [
    "X_train.head()"
   ]
  },
  {
   "cell_type": "code",
   "execution_count": 140,
   "metadata": {},
   "outputs": [
    {
     "data": {
      "text/plain": [
       "0    2.5\n",
       "1    4.0\n",
       "2    2.5\n",
       "3    4.0\n",
       "4    5.0\n",
       "Name: rating, dtype: float64"
      ]
     },
     "execution_count": 140,
     "metadata": {},
     "output_type": "execute_result"
    }
   ],
   "source": [
    "y_train.head()"
   ]
  },
  {
   "cell_type": "code",
   "execution_count": 135,
   "metadata": {
    "id": "jiUD8VT0tCmS"
   },
   "outputs": [
    {
     "ename": "AttributeError",
     "evalue": "'numpy.ndarray' object has no attribute 'lower'",
     "output_type": "error",
     "traceback": [
      "\u001b[1;31m---------------------------------------------------------------------------\u001b[0m",
      "\u001b[1;31mAttributeError\u001b[0m                            Traceback (most recent call last)",
      "\u001b[1;32m~\\AppData\\Local\\Temp/ipykernel_3856/4175259404.py\u001b[0m in \u001b[0;36m<module>\u001b[1;34m\u001b[0m\n\u001b[0;32m      3\u001b[0m \u001b[1;33m\u001b[0m\u001b[0m\n\u001b[0;32m      4\u001b[0m \u001b[1;31m# Transform train & test data\u001b[0m\u001b[1;33m\u001b[0m\u001b[1;33m\u001b[0m\u001b[0m\n\u001b[1;32m----> 5\u001b[1;33m \u001b[0mtfidf_train\u001b[0m \u001b[1;33m=\u001b[0m\u001b[0mtfidf\u001b[0m\u001b[1;33m.\u001b[0m\u001b[0mfit_transform\u001b[0m\u001b[1;33m(\u001b[0m\u001b[0mX_train\u001b[0m\u001b[1;33m.\u001b[0m\u001b[0mvalues\u001b[0m\u001b[1;33m)\u001b[0m\u001b[1;33m\u001b[0m\u001b[1;33m\u001b[0m\u001b[0m\n\u001b[0m\u001b[0;32m      6\u001b[0m \u001b[1;33m\u001b[0m\u001b[0m\n\u001b[0;32m      7\u001b[0m \u001b[1;31m# Repeat for test data\u001b[0m\u001b[1;33m\u001b[0m\u001b[1;33m\u001b[0m\u001b[0m\n",
      "\u001b[1;32m~\\anaconda3\\lib\\site-packages\\sklearn\\feature_extraction\\text.py\u001b[0m in \u001b[0;36mfit_transform\u001b[1;34m(self, raw_documents, y)\u001b[0m\n\u001b[0;32m   2075\u001b[0m         \"\"\"\n\u001b[0;32m   2076\u001b[0m         \u001b[0mself\u001b[0m\u001b[1;33m.\u001b[0m\u001b[0m_check_params\u001b[0m\u001b[1;33m(\u001b[0m\u001b[1;33m)\u001b[0m\u001b[1;33m\u001b[0m\u001b[1;33m\u001b[0m\u001b[0m\n\u001b[1;32m-> 2077\u001b[1;33m         \u001b[0mX\u001b[0m \u001b[1;33m=\u001b[0m \u001b[0msuper\u001b[0m\u001b[1;33m(\u001b[0m\u001b[1;33m)\u001b[0m\u001b[1;33m.\u001b[0m\u001b[0mfit_transform\u001b[0m\u001b[1;33m(\u001b[0m\u001b[0mraw_documents\u001b[0m\u001b[1;33m)\u001b[0m\u001b[1;33m\u001b[0m\u001b[1;33m\u001b[0m\u001b[0m\n\u001b[0m\u001b[0;32m   2078\u001b[0m         \u001b[0mself\u001b[0m\u001b[1;33m.\u001b[0m\u001b[0m_tfidf\u001b[0m\u001b[1;33m.\u001b[0m\u001b[0mfit\u001b[0m\u001b[1;33m(\u001b[0m\u001b[0mX\u001b[0m\u001b[1;33m)\u001b[0m\u001b[1;33m\u001b[0m\u001b[1;33m\u001b[0m\u001b[0m\n\u001b[0;32m   2079\u001b[0m         \u001b[1;31m# X is already a transformed view of raw_documents so\u001b[0m\u001b[1;33m\u001b[0m\u001b[1;33m\u001b[0m\u001b[0m\n",
      "\u001b[1;32m~\\anaconda3\\lib\\site-packages\\sklearn\\feature_extraction\\text.py\u001b[0m in \u001b[0;36mfit_transform\u001b[1;34m(self, raw_documents, y)\u001b[0m\n\u001b[0;32m   1328\u001b[0m                     \u001b[1;32mbreak\u001b[0m\u001b[1;33m\u001b[0m\u001b[1;33m\u001b[0m\u001b[0m\n\u001b[0;32m   1329\u001b[0m \u001b[1;33m\u001b[0m\u001b[0m\n\u001b[1;32m-> 1330\u001b[1;33m         \u001b[0mvocabulary\u001b[0m\u001b[1;33m,\u001b[0m \u001b[0mX\u001b[0m \u001b[1;33m=\u001b[0m \u001b[0mself\u001b[0m\u001b[1;33m.\u001b[0m\u001b[0m_count_vocab\u001b[0m\u001b[1;33m(\u001b[0m\u001b[0mraw_documents\u001b[0m\u001b[1;33m,\u001b[0m \u001b[0mself\u001b[0m\u001b[1;33m.\u001b[0m\u001b[0mfixed_vocabulary_\u001b[0m\u001b[1;33m)\u001b[0m\u001b[1;33m\u001b[0m\u001b[1;33m\u001b[0m\u001b[0m\n\u001b[0m\u001b[0;32m   1331\u001b[0m \u001b[1;33m\u001b[0m\u001b[0m\n\u001b[0;32m   1332\u001b[0m         \u001b[1;32mif\u001b[0m \u001b[0mself\u001b[0m\u001b[1;33m.\u001b[0m\u001b[0mbinary\u001b[0m\u001b[1;33m:\u001b[0m\u001b[1;33m\u001b[0m\u001b[1;33m\u001b[0m\u001b[0m\n",
      "\u001b[1;32m~\\anaconda3\\lib\\site-packages\\sklearn\\feature_extraction\\text.py\u001b[0m in \u001b[0;36m_count_vocab\u001b[1;34m(self, raw_documents, fixed_vocab)\u001b[0m\n\u001b[0;32m   1199\u001b[0m         \u001b[1;32mfor\u001b[0m \u001b[0mdoc\u001b[0m \u001b[1;32min\u001b[0m \u001b[0mraw_documents\u001b[0m\u001b[1;33m:\u001b[0m\u001b[1;33m\u001b[0m\u001b[1;33m\u001b[0m\u001b[0m\n\u001b[0;32m   1200\u001b[0m             \u001b[0mfeature_counter\u001b[0m \u001b[1;33m=\u001b[0m \u001b[1;33m{\u001b[0m\u001b[1;33m}\u001b[0m\u001b[1;33m\u001b[0m\u001b[1;33m\u001b[0m\u001b[0m\n\u001b[1;32m-> 1201\u001b[1;33m             \u001b[1;32mfor\u001b[0m \u001b[0mfeature\u001b[0m \u001b[1;32min\u001b[0m \u001b[0manalyze\u001b[0m\u001b[1;33m(\u001b[0m\u001b[0mdoc\u001b[0m\u001b[1;33m)\u001b[0m\u001b[1;33m:\u001b[0m\u001b[1;33m\u001b[0m\u001b[1;33m\u001b[0m\u001b[0m\n\u001b[0m\u001b[0;32m   1202\u001b[0m                 \u001b[1;32mtry\u001b[0m\u001b[1;33m:\u001b[0m\u001b[1;33m\u001b[0m\u001b[1;33m\u001b[0m\u001b[0m\n\u001b[0;32m   1203\u001b[0m                     \u001b[0mfeature_idx\u001b[0m \u001b[1;33m=\u001b[0m \u001b[0mvocabulary\u001b[0m\u001b[1;33m[\u001b[0m\u001b[0mfeature\u001b[0m\u001b[1;33m]\u001b[0m\u001b[1;33m\u001b[0m\u001b[1;33m\u001b[0m\u001b[0m\n",
      "\u001b[1;32m~\\anaconda3\\lib\\site-packages\\sklearn\\feature_extraction\\text.py\u001b[0m in \u001b[0;36m_analyze\u001b[1;34m(doc, analyzer, tokenizer, ngrams, preprocessor, decoder, stop_words)\u001b[0m\n\u001b[0;32m    111\u001b[0m     \u001b[1;32melse\u001b[0m\u001b[1;33m:\u001b[0m\u001b[1;33m\u001b[0m\u001b[1;33m\u001b[0m\u001b[0m\n\u001b[0;32m    112\u001b[0m         \u001b[1;32mif\u001b[0m \u001b[0mpreprocessor\u001b[0m \u001b[1;32mis\u001b[0m \u001b[1;32mnot\u001b[0m \u001b[1;32mNone\u001b[0m\u001b[1;33m:\u001b[0m\u001b[1;33m\u001b[0m\u001b[1;33m\u001b[0m\u001b[0m\n\u001b[1;32m--> 113\u001b[1;33m             \u001b[0mdoc\u001b[0m \u001b[1;33m=\u001b[0m \u001b[0mpreprocessor\u001b[0m\u001b[1;33m(\u001b[0m\u001b[0mdoc\u001b[0m\u001b[1;33m)\u001b[0m\u001b[1;33m\u001b[0m\u001b[1;33m\u001b[0m\u001b[0m\n\u001b[0m\u001b[0;32m    114\u001b[0m         \u001b[1;32mif\u001b[0m \u001b[0mtokenizer\u001b[0m \u001b[1;32mis\u001b[0m \u001b[1;32mnot\u001b[0m \u001b[1;32mNone\u001b[0m\u001b[1;33m:\u001b[0m\u001b[1;33m\u001b[0m\u001b[1;33m\u001b[0m\u001b[0m\n\u001b[0;32m    115\u001b[0m             \u001b[0mdoc\u001b[0m \u001b[1;33m=\u001b[0m \u001b[0mtokenizer\u001b[0m\u001b[1;33m(\u001b[0m\u001b[0mdoc\u001b[0m\u001b[1;33m)\u001b[0m\u001b[1;33m\u001b[0m\u001b[1;33m\u001b[0m\u001b[0m\n",
      "\u001b[1;32m~\\anaconda3\\lib\\site-packages\\sklearn\\feature_extraction\\text.py\u001b[0m in \u001b[0;36m_preprocess\u001b[1;34m(doc, accent_function, lower)\u001b[0m\n\u001b[0;32m     69\u001b[0m     \"\"\"\n\u001b[0;32m     70\u001b[0m     \u001b[1;32mif\u001b[0m \u001b[0mlower\u001b[0m\u001b[1;33m:\u001b[0m\u001b[1;33m\u001b[0m\u001b[1;33m\u001b[0m\u001b[0m\n\u001b[1;32m---> 71\u001b[1;33m         \u001b[0mdoc\u001b[0m \u001b[1;33m=\u001b[0m \u001b[0mdoc\u001b[0m\u001b[1;33m.\u001b[0m\u001b[0mlower\u001b[0m\u001b[1;33m(\u001b[0m\u001b[1;33m)\u001b[0m\u001b[1;33m\u001b[0m\u001b[1;33m\u001b[0m\u001b[0m\n\u001b[0m\u001b[0;32m     72\u001b[0m     \u001b[1;32mif\u001b[0m \u001b[0maccent_function\u001b[0m \u001b[1;32mis\u001b[0m \u001b[1;32mnot\u001b[0m \u001b[1;32mNone\u001b[0m\u001b[1;33m:\u001b[0m\u001b[1;33m\u001b[0m\u001b[1;33m\u001b[0m\u001b[0m\n\u001b[0;32m     73\u001b[0m         \u001b[0mdoc\u001b[0m \u001b[1;33m=\u001b[0m \u001b[0maccent_function\u001b[0m\u001b[1;33m(\u001b[0m\u001b[0mdoc\u001b[0m\u001b[1;33m)\u001b[0m\u001b[1;33m\u001b[0m\u001b[1;33m\u001b[0m\u001b[0m\n",
      "\u001b[1;31mAttributeError\u001b[0m: 'numpy.ndarray' object has no attribute 'lower'"
     ]
    }
   ],
   "source": [
    "\n",
    "# initilize TF-IDF Vectorizer\n",
    "tfidf = TfidfVectorizer()\n",
    "\n",
    "# Transform train & test data\n",
    "tfidf_train =tfidf.fit_transform(X_train.values)\n",
    "\n",
    "# Repeat for test data\n",
    "tfidf_test =tfidf.transform(X_test.values)"
   ]
  },
  {
   "cell_type": "code",
   "execution_count": 75,
   "metadata": {
    "id": "PKIjFm8ltCmT"
   },
   "outputs": [
    {
     "name": "stdout",
     "output_type": "stream",
     "text": [
      "['contents', 'movieid', 'relevance', 'userid']\n"
     ]
    }
   ],
   "source": [
    "# print the first 10 features of the TF-IDF Vectorizer\n",
    "print(tfidf.get_feature_names()[:100])"
   ]
  },
  {
   "cell_type": "code",
   "execution_count": null,
   "metadata": {
    "id": "PO8sTd8wtCmT"
   },
   "outputs": [],
   "source": [
    "# create tfidf vectorizer df\n",
    "tfidf_df = pd.DataFrame(tfidf_train.A, columns=tfidf.get_feature_names())\n",
    "print(tfidf_df.head())"
   ]
  },
  {
   "cell_type": "code",
   "execution_count": null,
   "metadata": {},
   "outputs": [],
   "source": [
    "import xgboost as xgb\n",
    "import datetime\n",
    "\n",
    "# initialize XGBoost model...\n",
    "xgb_model = xgb.XGBRegressor(silent=False, n_jobs=13, random_state=42, n_estimators=100)\n",
    "# dictionaries for storing train and test results\n",
    "train_results = dict()\n",
    "test_results = dict()\n",
    "    \n",
    "    \n",
    "# fit the model\n",
    "print('Training the model..')\n",
    "start =datetime.datetime.now()\n",
    "xgb_model.fit(tfidf_train, y_train, eval_metric = 'rmse')\n",
    "print('Done. Time taken : {}\\n'.format(datetime.datetime.now()-start))\n",
    "print('Done \\n')"
   ]
  },
  {
   "cell_type": "code",
   "execution_count": null,
   "metadata": {},
   "outputs": [],
   "source": [
    "# from the trained model, get the predictions....\n",
    "print('Evaluating the model with TRAIN data...')\n",
    "start = datetime.datetime.now()\n",
    "y_train_pred = xgb_model.predict(tfidf_test)\n",
    "# get the rmse and mape of train data...\n",
    "rmse_train, mape_train = get_error_metrics(y_train.values, y_train_pred)\n",
    "    \n",
    "# store the results in train_results dictionary..\n",
    "train_results = {'rmse': rmse_train,\n",
    "                    'mape' : mape_train,\n",
    "                    'predictions' : y_train_pred}"
   ]
  },
  {
   "cell_type": "code",
   "execution_count": null,
   "metadata": {},
   "outputs": [],
   "source": []
  },
  {
   "cell_type": "markdown",
   "metadata": {
    "id": "dShkTGHXtCmU"
   },
   "source": [
    "<a id=\"seven\"></a>\n",
    "## 7. Modeling\n",
    "<a href=#cont>Back to Table of Contents</a>\n",
    "\n",
    "\n",
    "#### 7.1 A Simple Recommender\n",
    "\n",
    "We wil be adopting the most basic class towards collaborative recommendation which the `Matrix Factorization-Based Algorithm.`. This works by decomposing the user-movie (userId-movieId) interaction matrix into the product of two lower dimensionality rectangular matrices. \n",
    "\n",
    "To implement this, we will be adopting the `surprise library`, which is for building and testing recommender systems and feeding it with our NON-NULL Base_data. so let's get right into it. "
   ]
  },
  {
   "cell_type": "code",
   "execution_count": 39,
   "metadata": {
    "colab": {
     "base_uri": "https://localhost:8080/"
    },
    "id": "IzDir3e-tCmU",
    "outputId": "6efb5afb-7619-407e-caca-439f50d34914"
   },
   "outputs": [
    {
     "name": "stdout",
     "output_type": "stream",
     "text": [
      "initial shape of TRAIN:  (500002, 3)\n",
      "Final shape of TRAIN Dataset:  (500002, 3)\n",
      "Final shape of Validation Dataset:  (0, 3)\n"
     ]
    }
   ],
   "source": [
    "# We split our Dataset to enable us validate here after modeling.\n",
    "\n",
    "print('initial shape of TRAIN: ', base_df.shape)\n",
    "# train_data = base_df.iloc[:int(base_df.shape[0]*1.0)]\n",
    "train_data = base_df\n",
    "val_data = base_df.iloc[int(test_df.shape[0]*0.95):]\n",
    "print('Final shape of TRAIN Dataset: ', train_data.shape)\n",
    "print('Final shape of Validation Dataset: ', val_data.shape)"
   ]
  },
  {
   "cell_type": "markdown",
   "metadata": {
    "id": "psN0TSwEtCmW"
   },
   "source": [
    "So we have for Train `9Million+` observation from the `10Million` and finally the remaining `1milion` as validation piece."
   ]
  },
  {
   "cell_type": "code",
   "execution_count": 40,
   "metadata": {
    "id": "MaUjCJDvtCma"
   },
   "outputs": [],
   "source": [
    "'''Modelling: Recall, We've imported SURPRISE at our Import section '''\n",
    "\n",
    "# This is to specify how to read the data frame.\n",
    "reader = Reader(rating_scale=(train_data['rating'].min(), train_data['rating'].max()))     # i.e 0.5 & 5 Respectively; SEE EDA\n",
    "\n",
    "# This creates the train-data from our dataframe\n",
    "train_data_sup = Dataset.load_from_df(train_data, reader)"
   ]
  },
  {
   "cell_type": "code",
   "execution_count": 42,
   "metadata": {
    "colab": {
     "base_uri": "https://localhost:8080/"
    },
    "id": "3Wkz4POXtCmX",
    "outputId": "84836abb-9ce1-41a8-af0f-14da38fd8695"
   },
   "outputs": [],
   "source": [
    "# '''To Ascertain Most suiting Model to be Adopted'''\n",
    "\n",
    "# benchmark = []\n",
    "# # Iterate over all algorithms\n",
    "\n",
    "# algorithms = [SVD(), KNNBaseline(), KNNWithMeans(), KNNWithZScore(), BaselineOnly(), CoClustering()]\n",
    "\n",
    "# print (\"Attempting: \", str(algorithms), '\\n\\n\\n')\n",
    "\n",
    "# for algorithm in algorithms:\n",
    "#     print(\"Starting: \" ,str(algorithm))\n",
    "#     # Perform cross validation\n",
    "#     results = cross_validate(algorithm, train_data_sup, measures=['RMSE', 'MAE'], cv=2, verbose=True)\n",
    "    \n",
    "#     # Get results & append algorithm name\n",
    "#     tmp = pd.DataFrame.from_dict(results).mean(axis=0)\n",
    "#     tmp = tmp.append(pd.Series([str(algorithm).split(' ')[0].split('.')[-1]], index=['Algorithm']))\n",
    "#     benchmark.append(tmp)\n",
    "#     print(\"Done: \" ,str(algorithm), \"\\n\\n\")\n",
    "\n",
    "# print ('\\n\\tDONE\\n')"
   ]
  },
  {
   "cell_type": "code",
   "execution_count": 43,
   "metadata": {
    "id": "NRvQkONptCmZ"
   },
   "outputs": [],
   "source": [
    "# # Release Result\n",
    "# surprise_results = pd.DataFrame(benchmark).set_index('Algorithm').sort_values('test_rmse')\n",
    "# surprise_results"
   ]
  },
  {
   "cell_type": "code",
   "execution_count": null,
   "metadata": {
    "id": "al6IZ742tCmb"
   },
   "outputs": [],
   "source": [
    "# build the train set from traindata. \n",
    "trainset = train_data_sup.build_full_trainset()                    # <--- It is of dataset format from surprise library"
   ]
  },
  {
   "cell_type": "code",
   "execution_count": null,
   "metadata": {
    "id": "6Ha0qiV6tCmc"
   },
   "outputs": [],
   "source": [
    "# Set Baised Parameters Model and Fit it.\n",
    "'''\n",
    "NOTE: SVD, When its Baseline Unbaised parameters are not set,\n",
    "      It's equivalent to Probablistic Matrix Factorization\n",
    "'''\n",
    "svd = SVD(n_epochs=10, n_factors=400, init_std_dev= 0.01, biased=True, random_state=15, verbose=True)\n",
    "svd.fit(trainset)"
   ]
  },
  {
   "cell_type": "code",
   "execution_count": null,
   "metadata": {
    "id": "sbn3nXy8tCmc"
   },
   "outputs": [],
   "source": []
  },
  {
   "cell_type": "markdown",
   "metadata": {
    "id": "VRxaOTF2tCmd"
   },
   "source": [
    "<a id=\"eight\"></a>\n",
    "## 8. MODEL PERFORMANCE\n",
    "<a href=#cont>Back to Table of Contents</a>\n",
    "\n",
    "Here will be reviewing the individual performance of our machine learning model and why to use one in place of the other"
   ]
  },
  {
   "cell_type": "markdown",
   "metadata": {
    "id": "zv5wnwbWtCmd"
   },
   "source": [
    "#### 8.1 Testing Simple Recommender\n"
   ]
  },
  {
   "cell_type": "code",
   "execution_count": null,
   "metadata": {
    "id": "i73qlIOvtCme"
   },
   "outputs": [],
   "source": [
    "# Cross validating using our \n",
    "from surprise.model_selection import cross_validate\n",
    "result = cross_validate(svd, Dataset.load_from_df(val_data, reader), measures=['RMSE', 'MAE'], cv=2, verbose=True)"
   ]
  },
  {
   "cell_type": "code",
   "execution_count": null,
   "metadata": {
    "id": "qT75j_HatCme"
   },
   "outputs": [],
   "source": [
    "result = pd.DataFrame(result)\n",
    "result"
   ]
  },
  {
   "cell_type": "code",
   "execution_count": null,
   "metadata": {
    "id": "acHRumYip7KE"
   },
   "outputs": [],
   "source": [
    "print(result)"
   ]
  },
  {
   "cell_type": "code",
   "execution_count": null,
   "metadata": {
    "id": "Nwg8n4fltCmf"
   },
   "outputs": [],
   "source": [
    "# Creating a sparse matrix\n",
    "# train_sparse_matrix = sparse.csr_matrix((train_data.rating.values, (train_data.userId.values,\n",
    "#                                                train_data.movieId.values)))"
   ]
  },
  {
   "cell_type": "code",
   "execution_count": null,
   "metadata": {
    "id": "yxwM8tfgtCmf"
   },
   "outputs": [],
   "source": []
  },
  {
   "cell_type": "code",
   "execution_count": null,
   "metadata": {
    "id": "rt2oW3pItCmf"
   },
   "outputs": [],
   "source": []
  },
  {
   "cell_type": "code",
   "execution_count": null,
   "metadata": {
    "id": "WEXvmJf4tCmg"
   },
   "outputs": [],
   "source": []
  },
  {
   "cell_type": "markdown",
   "metadata": {
    "id": "GUbrmprrtCmg"
   },
   "source": [
    "#### 8.2 Best Model Resolution\n",
    "\n",
    "From the Result we can conclusively say .............."
   ]
  },
  {
   "cell_type": "markdown",
   "metadata": {
    "id": "zgllLRwGtCmh"
   },
   "source": [
    "#### 8.3 Hypertune Best Model\n",
    "\n",
    "For every model, our goal is to minimize the error or say to have classification or predictions as close as possible to actual values. This is one of the cores or say the major objective of hyperparameter tuning. "
   ]
  },
  {
   "cell_type": "code",
   "execution_count": null,
   "metadata": {
    "id": "HnWyMwP1tCmi"
   },
   "outputs": [],
   "source": [
    "# smaller grid for testing\n",
    "# from sklearn.model_selection import GridSearchCV\n",
    "\n",
    "# param_grid = {\n",
    "#     \"n_epochs\": [20],\n",
    "#     \"lr_all\": [0.002, 0.005],\n",
    "#     \"reg_all\": [0.02],\n",
    "#     \"n_factors\": [100], \n",
    "#     \"biased\": [True], \n",
    "#     \"random_state\": [10, 15, 30, 42], \n",
    "#     \"verbose\": [True]\n",
    "# }\n",
    "# gs = GridSearchCV(SVD, param_grid, scoring=['accuracy', 'f1'], refit=False, cv=3)\n",
    "\n",
    "# gs.fit(train_data_sup)\n",
    "\n",
    "# training_parameters = gs.best_params[\"rmse\"]\n",
    "# print('Best Parameters', training_parameters)"
   ]
  },
  {
   "cell_type": "code",
   "execution_count": null,
   "metadata": {
    "id": "rF5XTNnStCmj"
   },
   "outputs": [],
   "source": [
    "# # Best Model Score in %\n",
    "# print(\"BEST RMSE: \\t\", gs.best_score[\"rmse\"])\n",
    "# print(\"BEST MAE: \\t\", gs.best_score[\"mae\"])\n",
    "# print(\"BEST params: \\t\", gs.best_params[\"rmse\"])"
   ]
  },
  {
   "cell_type": "markdown",
   "metadata": {
    "id": "banwMrCrtCmk"
   },
   "source": [
    "#### 8.4 Best Model Visual Evaluation\n",
    "Measuring the effectiveness and performance is what exactly the confusion matrix is design to do. So we will be putting this up bot in Numbers and visuals."
   ]
  },
  {
   "cell_type": "code",
   "execution_count": null,
   "metadata": {
    "id": "Ed2gJiyxtCmk"
   },
   "outputs": [],
   "source": [
    "\n"
   ]
  },
  {
   "cell_type": "code",
   "execution_count": null,
   "metadata": {
    "id": "Mr_5ii9gtCmk"
   },
   "outputs": [],
   "source": []
  },
  {
   "cell_type": "markdown",
   "metadata": {
    "id": "K3U4Lm6stCml"
   },
   "source": [
    "As you can see above........"
   ]
  },
  {
   "cell_type": "markdown",
   "metadata": {
    "id": "ZWEIA3LFtCml"
   },
   "source": [
    "<a id=\"nine\"></a>\n",
    "## 9. SAVING & EXPORTING MODEL\n",
    "<a href=#cont>Back to Table of Contents</a>\n",
    "\n",
    "Now, we don't want our models just be sitting in some jupyter notebook, at this point, Let's save results to desired format, preferrably CSV and model as a pickle file. This will be used for deployment purposes to solving real life scenerios."
   ]
  },
  {
   "cell_type": "markdown",
   "metadata": {
    "id": "vIqsQy9_tCmm"
   },
   "source": [
    "#### 9.1 Export Test Prediction as CSV"
   ]
  },
  {
   "cell_type": "code",
   "execution_count": null,
   "metadata": {
    "id": "MUDUBYB6tCmn"
   },
   "outputs": [],
   "source": [
    "# '''\n",
    "# Unhash to Run  (CTRL + /)\n",
    "# '''\n",
    "# # Create Kaggle submission file\n",
    "\n",
    "# predictions = []\n",
    "# for i, row in test_df.iterrows():\n",
    "#     x = (svd.predict(row.userId, row.movieId))\n",
    "#     pred = x[3]\n",
    "#     predictions.append(pred)\n",
    "# test_df['Id'] = test_df['userId'].map(str) +'_'+ test_df['movieId'].map(str)\n",
    "# results = pd.DataFrame({\"Id\":test_df['Id'],\"rating\": predictions})\n",
    "# # Saves as CSV \n",
    "# results.to_csv(\"T4_submission_4.csv\", index=False)"
   ]
  },
  {
   "cell_type": "code",
   "execution_count": null,
   "metadata": {
    "id": "oHEKj3K7tCmp"
   },
   "outputs": [],
   "source": [
    "# Use to Extract CSV file when running on G-Colab\n",
    "\n",
    "# from google.colab import  files\n",
    "# files.download('T4_submission_4.csv')"
   ]
  },
  {
   "cell_type": "code",
   "execution_count": null,
   "metadata": {
    "id": "C9RcyUPztCmr"
   },
   "outputs": [],
   "source": [
    "# ## SAVING TRAINED MODEL\n",
    "# from surprise import dump\n",
    "# import os\n",
    "\n",
    "# model_filename = \"./EDSA_T4_Simple_Recommender_1.pkl\"\n",
    "# print (\">> Starting dump\")\n",
    "# # Dump algorithm and reload it.\n",
    "# file_name = os.path.expanduser(model_filename)\n",
    "# dump.dump(file_name, algo=svd)\n",
    "# print (\">> Dump done\")\n",
    "# print(model_filename)"
   ]
  },
  {
   "cell_type": "code",
   "execution_count": null,
   "metadata": {
    "id": "srRjl8kC8Vka"
   },
   "outputs": [],
   "source": [
    "# from google.colab import  files\n",
    "# files.download('EDSA_T4_Simple_Recommender_1.pkl')"
   ]
  },
  {
   "cell_type": "markdown",
   "metadata": {
    "id": "re5EoJyntCms"
   },
   "source": [
    "#### 9.2 Log to Comet"
   ]
  },
  {
   "cell_type": "code",
   "execution_count": null,
   "metadata": {
    "id": "DrQxBv3ktCmt"
   },
   "outputs": [],
   "source": [
    "# # Create dictionaries for the data we want to log\n",
    "# # This had to be defined since that applied to our model is the best from the grid search.\n",
    "\n",
    "# params ={\"random_state\": 42,\n",
    "#          \"model_type \": \"SVD\",\n",
    "#          \"biased\": True, \n",
    "#          \"verbose\": True\n",
    "#         }\n",
    "\n",
    "# best_metrics ={\"RMSE\" : result}"
   ]
  },
  {
   "cell_type": "code",
   "execution_count": null,
   "metadata": {
    "id": "Yni6n_OItCmu"
   },
   "outputs": [],
   "source": [
    "# #log parameters and results\n",
    "# experiment.log_parameters(params)\n",
    "# experiment.log_metric('RMSE', result)\n",
    "# experiment.log_notebook('2.0 EDSA-movie-recommendation-2022_Notebook.ipynb', overwrite=False)"
   ]
  },
  {
   "cell_type": "markdown",
   "metadata": {
    "id": "r7-wGrgntCmu"
   },
   "source": [
    "NOTE: It is required If using comet within a jupyter notebook, to end our experiment on completion as illustrated below."
   ]
  },
  {
   "cell_type": "code",
   "execution_count": null,
   "metadata": {
    "id": "uPbJT_qatCmv"
   },
   "outputs": [],
   "source": [
    "# STRICTLY FOR LOCAL JUPYTER NOTEBOOKS\n",
    "experiment.end()"
   ]
  },
  {
   "cell_type": "markdown",
   "metadata": {
    "id": "B5C_VjXFtCmv"
   },
   "source": [
    "Kindly [Go to Streamlite Webpage](http://) to test-run an actual perfromance of our model on the web."
   ]
  },
  {
   "cell_type": "markdown",
   "metadata": {
    "id": "PL3gA3zItCmw"
   },
   "source": [
    "<a id=\"ten\"></a>\n",
    "## 10. Conclusion\n",
    "<a href=#cont>Back to Table of Contents</a>\n",
    "\n",
    "   In summary ......."
   ]
  },
  {
   "cell_type": "markdown",
   "metadata": {
    "id": "K3N2cjcxtCmw"
   },
   "source": [
    "<a id=\"eleven\"></a>\n",
    "## 11. Recommendation\n",
    "<a href=#cont>Back to Table of Contents</a>\n",
    "\n",
    "......."
   ]
  },
  {
   "cell_type": "markdown",
   "metadata": {
    "id": "-T26ehyGtCmx"
   },
   "source": [
    "<a id=\"ref\"></a>\n",
    "## Reference Links\n",
    "<a href=#cont>Back to Table of Contents</a>"
   ]
  },
  {
   "cell_type": "markdown",
   "metadata": {
    "id": "UTLX2XTCtCmx"
   },
   "source": [
    "* [EXPLORE Data Science Academy Resources](https://explore-datascience.net/)\n",
    "* [GitHub Collab Ref.](https://github.com/)\n",
    "* [Commet Collab Ref](https://www.comet.ml/) \n",
    "* [Kaggle Collab Ref](https://www.kaggle.com/competitions/edsa-movie-recommendation-2022/overview)\n",
    "* [How to Build a Movie Recommendation System by Ramya Vidiyala](https://towardsdatascience.com/how-to-build-a-movie-recommendation-system-67e321339109)"
   ]
  }
 ],
 "metadata": {
  "colab": {
   "collapsed_sections": [],
   "name": "2.0_EDSA_movie_recommendation_2022_Notebook.ipynb",
   "provenance": []
  },
  "kernelspec": {
   "display_name": "Python 3 (ipykernel)",
   "language": "python",
   "name": "python3"
  },
  "language_info": {
   "codemirror_mode": {
    "name": "ipython",
    "version": 3
   },
   "file_extension": ".py",
   "mimetype": "text/x-python",
   "name": "python",
   "nbconvert_exporter": "python",
   "pygments_lexer": "ipython3",
   "version": "3.9.7"
  }
 },
 "nbformat": 4,
 "nbformat_minor": 1
}
